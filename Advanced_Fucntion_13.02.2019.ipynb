{
 "cells": [
  {
   "cell_type": "code",
   "execution_count": 9,
   "metadata": {},
   "outputs": [],
   "source": [
    "#user defined function-->\n",
    "#1. without return type-without arguement\n",
    "#2. with return type-with arguement\n",
    "#3. without arguement-without return type\n",
    "#4. with arguement - with return type"
   ]
  },
  {
   "cell_type": "code",
   "execution_count": null,
   "metadata": {},
   "outputs": [],
   "source": [
    "#Scoping\n",
    "x = 5\n",
    "def change(x):  #local\n",
    "    x = x**2\n",
    "print(\"before functio x =\",x)\n",
    "change(x)\n",
    "print(\"after function x =\",x)"
   ]
  }
 ],
 "metadata": {
  "kernelspec": {
   "display_name": "Python 3",
   "language": "python",
   "name": "python3"
  },
  "language_info": {
   "codemirror_mode": {
    "name": "ipython",
    "version": 3
   },
   "file_extension": ".py",
   "mimetype": "text/x-python",
   "name": "python",
   "nbconvert_exporter": "python",
   "pygments_lexer": "ipython3",
   "version": "3.6.5"
  }
 },
 "nbformat": 4,
 "nbformat_minor": 2
}
