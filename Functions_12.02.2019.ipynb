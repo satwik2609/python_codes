{
 "cells": [
  {
   "cell_type": "code",
   "execution_count": 4,
   "metadata": {},
   "outputs": [],
   "source": [
    "def add(x,y):  #definintion (x,y)-->positional/formal arguements \n",
    "    \"\"\"add(x,y)--> x+y\"\"\"  #documentation string\n",
    "    print(\"x =\",x)\n",
    "    print(\"y =\",y)\n",
    "    print(\"x+y =\",x+y)\n",
    "    return x+y  #actual arguements"
   ]
  },
  {
   "cell_type": "code",
   "execution_count": 5,
   "metadata": {},
   "outputs": [
    {
     "name": "stdout",
     "output_type": "stream",
     "text": [
      "x = 3\n",
      "y = 4\n",
      "x+y = 7\n",
      "x = 5\n",
      "y = 7\n",
      "x+y = 12\n"
     ]
    }
   ],
   "source": [
    "r1 = add(3,4)\n",
    "r2 = add(5,7)"
   ]
  },
  {
   "cell_type": "code",
   "execution_count": 7,
   "metadata": {},
   "outputs": [],
   "source": [
    "def hello():\n",
    "    print(\"Hello world\")"
   ]
  },
  {
   "cell_type": "code",
   "execution_count": 8,
   "metadata": {},
   "outputs": [
    {
     "name": "stdout",
     "output_type": "stream",
     "text": [
      "Hello world\n",
      "Hello world\n",
      "Hello world\n",
      "Hello world\n",
      "Hello world\n"
     ]
    }
   ],
   "source": [
    "for var in range(5):\n",
    "    hello()"
   ]
  },
  {
   "cell_type": "code",
   "execution_count": 36,
   "metadata": {},
   "outputs": [],
   "source": [
    "def even_odd(x):\n",
    "    if isinstance(x,int):\n",
    "        if x/2:\n",
    "            return \"odd\"\n",
    "        else :\n",
    "            return \"even\"\n",
    "    else:\n",
    "        return \"Error!\""
   ]
  },
  {
   "cell_type": "code",
   "execution_count": 41,
   "metadata": {},
   "outputs": [
    {
     "name": "stdout",
     "output_type": "stream",
     "text": [
      "even\n"
     ]
    }
   ],
   "source": [
    "n = even_odd(4)\n",
    "print(n)"
   ]
  },
  {
   "cell_type": "code",
   "execution_count": 55,
   "metadata": {},
   "outputs": [],
   "source": [
    "def prime(n):\n",
    "    if isinstance(n,int) and n>=2:\n",
    "        for i in range (2,n):\n",
    "            \n",
    "            if (n%i)==0:\n",
    "                return \"not prime\"\n",
    "            else :\n",
    "                return \"prime\"\n",
    "    else:\n",
    "        return \"error\""
   ]
  },
  {
   "cell_type": "code",
   "execution_count": 54,
   "metadata": {},
   "outputs": [
    {
     "name": "stdout",
     "output_type": "stream",
     "text": [
      "prime\n"
     ]
    }
   ],
   "source": [
    "x = prime(127)\n",
    "print(x)"
   ]
  },
  {
   "cell_type": "code",
   "execution_count": 56,
   "metadata": {},
   "outputs": [],
   "source": [
    "def prime(n):  #checking till half value of given input \n",
    "    if isinstance(n,int) and n>=2:\n",
    "        for i in range (2,n//2+1):\n",
    "            \n",
    "            if (n%i)==0:\n",
    "                return \"not prime\"\n",
    "            else :\n",
    "                return \"prime\"\n",
    "    else:\n",
    "        return \"error\""
   ]
  },
  {
   "cell_type": "code",
   "execution_count": null,
   "metadata": {},
   "outputs": [],
   "source": [
    "def login(user,password):\n",
    "    if user == 'sachin':\n",
    "        if password == 'redhat':\n",
    "            return 'successful'\n",
    "        return \"invalid password\"\n",
    "    return \"invalid password\""
   ]
  },
  {
   "cell_type": "code",
   "execution_count": null,
   "metadata": {},
   "outputs": [],
   "source": [
    "info = {'username':'sachin', 'password':'redhat'}\n",
    "def login(user,password):    \n",
    "    if info['username'] == user:\n",
    "        if info['password'] == password:\n",
    "            return \"successful\"\n",
    "        return \"invalid password\"\n",
    "    return \"invalid user\""
   ]
  },
  {
   "cell_type": "code",
   "execution_count": null,
   "metadata": {},
   "outputs": [],
   "source": [
    "def is_leap(year):\n",
    "    if year/2:\n",
    "        return \"False\"\n",
    "    return \"True\"\n",
    "year = int(input())\n",
    "print(is_leap(year))"
   ]
  },
  {
   "cell_type": "code",
   "execution_count": null,
   "metadata": {},
   "outputs": [],
   "source": []
  }
 ],
 "metadata": {
  "kernelspec": {
   "display_name": "Python 3",
   "language": "python",
   "name": "python3"
  },
  "language_info": {
   "codemirror_mode": {
    "name": "ipython",
    "version": 3
   },
   "file_extension": ".py",
   "mimetype": "text/x-python",
   "name": "python",
   "nbconvert_exporter": "python",
   "pygments_lexer": "ipython3",
   "version": "3.6.5"
  }
 },
 "nbformat": 4,
 "nbformat_minor": 2
}
