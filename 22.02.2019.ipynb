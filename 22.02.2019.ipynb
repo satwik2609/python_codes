{
 "cells": [
  {
   "cell_type": "code",
   "execution_count": 57,
   "metadata": {},
   "outputs": [],
   "source": [
    "f = open('D:\\\\Grras\\\\Profit_loss.txt','w+')"
   ]
  },
  {
   "cell_type": "code",
   "execution_count": 58,
   "metadata": {},
   "outputs": [
    {
     "data": {
      "text/plain": [
       "43"
      ]
     },
     "execution_count": 58,
     "metadata": {},
     "output_type": "execute_result"
    }
   ],
   "source": [
    "f.write('Product_id,quantity,sell_price,actual_price')"
   ]
  },
  {
   "cell_type": "code",
   "execution_count": 59,
   "metadata": {},
   "outputs": [],
   "source": [
    "f = open('D:\\\\Grras\\\\Profit_loss.txt','a+')"
   ]
  },
  {
   "cell_type": "code",
   "execution_count": 60,
   "metadata": {},
   "outputs": [
    {
     "data": {
      "text/plain": [
       "19"
      ]
     },
     "execution_count": 60,
     "metadata": {},
     "output_type": "execute_result"
    }
   ],
   "source": [
    "f.write('\\npd_1001,10,500,450')"
   ]
  },
  {
   "cell_type": "code",
   "execution_count": 61,
   "metadata": {},
   "outputs": [
    {
     "data": {
      "text/plain": [
       "19"
      ]
     },
     "execution_count": 61,
     "metadata": {},
     "output_type": "execute_result"
    }
   ],
   "source": [
    "f.write('\\npd_1002,15,300,250')"
   ]
  },
  {
   "cell_type": "code",
   "execution_count": 62,
   "metadata": {},
   "outputs": [
    {
     "data": {
      "text/plain": [
       "19"
      ]
     },
     "execution_count": 62,
     "metadata": {},
     "output_type": "execute_result"
    }
   ],
   "source": [
    "f.write('\\npd_1003,17,200,180')"
   ]
  },
  {
   "cell_type": "code",
   "execution_count": 63,
   "metadata": {},
   "outputs": [
    {
     "data": {
      "text/plain": [
       "18"
      ]
     },
     "execution_count": 63,
     "metadata": {},
     "output_type": "execute_result"
    }
   ],
   "source": [
    "f.write('\\npd_1004,7,700,620')"
   ]
  },
  {
   "cell_type": "code",
   "execution_count": 64,
   "metadata": {},
   "outputs": [
    {
     "data": {
      "text/plain": [
       "18"
      ]
     },
     "execution_count": 64,
     "metadata": {},
     "output_type": "execute_result"
    }
   ],
   "source": [
    "f.write('\\npd_1005,6,650,480')"
   ]
  },
  {
   "cell_type": "code",
   "execution_count": 65,
   "metadata": {},
   "outputs": [],
   "source": [
    "f.close()"
   ]
  },
  {
   "cell_type": "code",
   "execution_count": 41,
   "metadata": {},
   "outputs": [],
   "source": [
    "f = open('D:\\\\Grras\\\\Profit_loss.txt')"
   ]
  },
  {
   "cell_type": "code",
   "execution_count": 42,
   "metadata": {},
   "outputs": [
    {
     "data": {
      "text/plain": [
       "'Produc_id,quantity,sell_price,actual_prince\\n'"
      ]
     },
     "execution_count": 42,
     "metadata": {},
     "output_type": "execute_result"
    }
   ],
   "source": [
    "f.readline()"
   ]
  },
  {
   "cell_type": "code",
   "execution_count": 43,
   "metadata": {},
   "outputs": [
    {
     "data": {
      "text/plain": [
       "['pd_1001,10,500,450\\n']"
      ]
     },
     "execution_count": 43,
     "metadata": {},
     "output_type": "execute_result"
    }
   ],
   "source": [
    "f.readlines(2)"
   ]
  },
  {
   "cell_type": "code",
   "execution_count": 44,
   "metadata": {},
   "outputs": [],
   "source": [
    "data = f.read()"
   ]
  },
  {
   "cell_type": "code",
   "execution_count": 45,
   "metadata": {},
   "outputs": [
    {
     "name": "stdout",
     "output_type": "stream",
     "text": [
      "pd_1002,15,300,250\n",
      "pd_1003,20,200,180\n",
      "pd_1003,17,200,180\n",
      "pd_1004,7,700,620\n",
      "pd_1005,6,650,480\n",
      "pd_1006,5,550,450pd_1001,10,500,450pd_1002,15,300,250pd_1003,17,200,180pd_1004,7,700,620pd_1005,6,650,480\n"
     ]
    }
   ],
   "source": [
    "print(data)"
   ]
  },
  {
   "cell_type": "code",
   "execution_count": 46,
   "metadata": {},
   "outputs": [],
   "source": [
    "f.close()"
   ]
  },
  {
   "cell_type": "code",
   "execution_count": 47,
   "metadata": {},
   "outputs": [
    {
     "name": "stdout",
     "output_type": "stream",
     "text": [
      "Produc_id,quantity,sell_price,actual_prince\n",
      "\n",
      "pd_1001,10,500,450\n",
      "\n",
      "pd_1002,15,300,250\n",
      "\n",
      "pd_1003,20,200,180\n",
      "\n",
      "pd_1003,17,200,180\n",
      "\n",
      "pd_1004,7,700,620\n",
      "\n",
      "pd_1005,6,650,480\n",
      "\n",
      "pd_1006,5,550,450pd_1001,10,500,450pd_1002,15,300,250pd_1003,17,200,180pd_1004,7,700,620pd_1005,6,650,480\n"
     ]
    }
   ],
   "source": [
    "for line in open('D:\\\\Grras\\\\Profit_loss.txt'):\n",
    "    print(line)"
   ]
  },
  {
   "cell_type": "code",
   "execution_count": 48,
   "metadata": {},
   "outputs": [],
   "source": [
    "with open('D:\\\\Grras\\\\Profit_loss.txt','a+') as f:\n",
    "    s = \"\\npd_1006,5,550,450\"\n",
    "    f.write(s)\n",
    "    f.close()"
   ]
  },
  {
   "cell_type": "code",
   "execution_count": 49,
   "metadata": {},
   "outputs": [],
   "source": [
    "f = open('D:\\\\Grras\\\\Profit_loss.txt')"
   ]
  },
  {
   "cell_type": "code",
   "execution_count": 50,
   "metadata": {},
   "outputs": [],
   "source": [
    "data = f.read()"
   ]
  },
  {
   "cell_type": "code",
   "execution_count": 51,
   "metadata": {},
   "outputs": [
    {
     "data": {
      "text/plain": [
       "'Produc_id,quantity,sell_price,actual_prince\\npd_1001,10,500,450\\npd_1002,15,300,250\\npd_1003,20,200,180\\npd_1003,17,200,180\\npd_1004,7,700,620\\npd_1005,6,650,480\\npd_1006,5,550,450pd_1001,10,500,450pd_1002,15,300,250pd_1003,17,200,180pd_1004,7,700,620pd_1005,6,650,480\\npd_1006,5,550,450'"
      ]
     },
     "execution_count": 51,
     "metadata": {},
     "output_type": "execute_result"
    }
   ],
   "source": [
    "data"
   ]
  },
  {
   "cell_type": "code",
   "execution_count": 52,
   "metadata": {},
   "outputs": [],
   "source": [
    "f.close()"
   ]
  },
  {
   "cell_type": "code",
   "execution_count": 66,
   "metadata": {},
   "outputs": [
    {
     "name": "stdout",
     "output_type": "stream",
     "text": [
      "no. of rows: 3\n",
      "\n",
      " enter data as product_id,quantity,sell_price,actual_price\n",
      "1001,10,500,450\n",
      "1002,15,300,250\n",
      "1003,17,200,180\n",
      "1001\t10\t500\t450\n",
      "1002\t15\t300\t250\n",
      "1003\t17\t200\t180\n",
      "\n"
     ]
    }
   ],
   "source": [
    "data = ''\n",
    "n = int(input('no. of rows: '))\n",
    "print(\"\\n enter data as product_id,quantity,sell_price,actual_price\")\n",
    "for var in range(n):\n",
    "    d = input().split(',')\n",
    "    data += '\\t'.join(d)+'\\n'\n",
    "print(data) "
   ]
  },
  {
   "cell_type": "code",
   "execution_count": 68,
   "metadata": {},
   "outputs": [],
   "source": [
    "import pickle"
   ]
  },
  {
   "cell_type": "code",
   "execution_count": 70,
   "metadata": {},
   "outputs": [],
   "source": [
    "import requests"
   ]
  },
  {
   "cell_type": "code",
   "execution_count": 71,
   "metadata": {},
   "outputs": [],
   "source": [
    "page = requests.get(\"http://grras.com\")"
   ]
  },
  {
   "cell_type": "code",
   "execution_count": 72,
   "metadata": {},
   "outputs": [
    {
     "data": {
      "text/plain": [
       "200"
      ]
     },
     "execution_count": 72,
     "metadata": {},
     "output_type": "execute_result"
    }
   ],
   "source": [
    "page.status_code"
   ]
  },
  {
   "cell_type": "code",
   "execution_count": 73,
   "metadata": {},
   "outputs": [
    {
     "data": {
      "text/plain": [
       "b'<!doctype html>\\n<html class=\"no-js\" lang=\"\">\\n    <head>\\n        <meta charset=\"utf-8\">\\n        <meta http-equiv=\"x-ua-compatible\" content=\"ie=edge\"> \\n\\t<title>Grras Solutions \\xe2\\x80\\x93 AWS-Cloud, CCNA & RedHat Linux Certification & Training</title>\\n\\t\\t<meta name=\"keywords\" content=\"CCNA training in Jaipur, CCNA training in Ahmedabad, RedHat Certification in Jaipur, RedHat Certification in Indore, RedHat Certification in Ahmedabad, AWS Cloud Certification in Jaipur, AWS Cloud Certification in Indore, AWS Cloud Certification in Ahmedabad\"> \\n        <meta name=\"description\" content=\"Grras Solutions is one of the best CCNA, Red Hat Linux ( RHCSA & RHCE ) and AWS cloud Certification and training provider in Jaipur, Ahmedabad and Indore.\">\\n        <link rel=\"canonical\" href=\"https://grras.com/\" />\\n      <meta name=\"classification\" content=\"Linux Training Institute, RedHat Training Center\">\\n        <meta name=\"copyright\" content=\"Linux Training Institute, RedHat Training Center\"/>\\n        <meta name=\"author\" content=\"GRRAS Solution Pvt Ltd, Linux Training Institute, RedHat Training Center\"/>\\n        <meta name=\"geography\" content=\"India\"/>\\n        <meta name=\"distribution\" content=\"global\"/>\\n        <meta name=\"language\" content=\"en-us\"/>\\n        <meta name=\"distribution\" content=\"Global\">\\n        <meta name=\"Publisher\" content=\"https://grras.com\">\\n        <meta name=\"Rating\" content=\"General\">\\n        <meta name=geography content=\"India \">\\n        <meta name=\"geo.region\" content=\"JP-RJ\" />\\n        <meta name=\"geo.placename\" content=\"Jaipur\" />\\n        <meta name=\"Search Engine\" CONTENT=\"https://www.google.co.in/\">\\n        <meta name=\"viewport\" content=\"width=device-width, initial-scale=1, shrink-to-fit=no\"> \\n        <link rel=\"manifest\" href=\"site.webmanifest\">\\n        <link rel=\"apple-touch-icon\" href=\"favicon-32x32.png\" sizes=\"32x32\">\\n\\t<link rel=\"icon\" type=\"image/png\" href=\"favicon-32x32.png\" sizes=\"32x32\" />\\n        <!-- Place favicon.ico in the root directory --> \\n\\t\\t<link href=\"https://grras.com/css/font-awesome.min.css\" rel=\"stylesheet\">\\n          \\n\\t  \\n\\t<link href=\"https://grras.com/css/main.css\" rel=\"stylesheet\"> \\n\\t<style>body\\n{\\nmargin:0px; auto;\\npadding:0px; \\n}\\n.hide{display: none;}\\n.progress \\n{\\n position: fixed;\\n left: 0px;\\n top: 0px;\\n width: 100%;\\n height: 2px;\\n z-index: 9999;\\n background-color: #F2F2F2;\\n}\\n.bar \\n{ \\n  background-color: red; \\n  width:0%; \\n  height:5px; \\n  border-radius: 3px; \\n}\\n.percent \\n{ \\n  position:absolute; \\n  display:inline-block; \\n  top:3px; \\n  left:48%; \\n}\\n </style>\\n<script>document.onreadystatechange = function(e)\\n{\\n    \\n  if(document.readyState==\"interactive\")\\n  {\\n    var all = document.getElementsByTagName(\"*\");\\n    for (var i=0, max=all.length; i < max; i++) \\n    {\\n      set_ele(all[i]);\\n    }\\n  }\\n}\\n\\nfunction check_element(ele)\\n{\\n  var all = document.getElementsByTagName(\"*\");\\n  var totalele=all.length;\\n  var per_inc=100/all.length;\\n\\n  if($(ele).on())\\n  {\\n    var prog_width=per_inc+Number(document.getElementById(\"progress_width\").value);\\n    document.getElementById(\"progress_width\").value=prog_width;\\n    $(\"#bar1\").animate({width:prog_width+\"%\"},$ssl0,function(){\\n\\t\\n      if(document.getElementById(\"bar1\").style.width>=\"100%\")\\n      {\\n        $(\".progress\").fadeOut(\"slow\"); \\n      }\\t\\t\\t\\n    });\\n  }\\n\\n  else\\t\\n  {\\n    set_ele(ele);\\n  }\\n}\\n\\nfunction set_ele(set_element)\\n{\\n  //check_element(set_element);\\n}\\n\\n</script> \\n<!-- Global site tag (gtag.js) - Google Analytics -->\\n<script async src=\"https://www.googletagmanager.com/gtag/js?id=UA-122951366-1\"></script>\\n<script>\\n  window.dataLayer = window.dataLayer || [];\\n  function gtag(){dataLayer.push(arguments);}\\n  gtag(\\'js\\', new Date());\\n  gtag(\\'config\\', \\'UA-122951366-1\\');\\n</script>\\n\\n<meta name=\"google-site-verification\" content=\"3YCUvBteMIpewaw7BHI3LC2cfeeAhIqWrOJLbL8HJ3A\" />\\n   </head>\\n   <body> \\n       <div class=\\'progress\\' id=\"progress_div\" >\\n    <div class=\\'bar\\' id=\\'bar1\\'></div>\\n    <div class=\\'percent\\' id=\\'percent1\\'></div>\\n  </div> \\n  \\n  <input type=\"hidden\" id=\"progress_width\" value=\"0\">\\n        <!--[if lte IE 9]>\\n            <p class=\"browserupgrade\">You are using an <strong>outdated</strong> browser. Please <a href=\"https://browsehappy.com/\">upgrade your browser</a> to improve your experience and security.</p>\\n        <![endif]--> \\n      <!-- Top Bar -->\\n      <section class=\"top_bar\">\\n         <div class=\"container custom-container\">\\n            <div class=\"header_top\">\\n                <div class=\"news_feed\" style=\"overflow: hidden\"> \\n\\t\\t <marquee scrollamount=\"3\" onmouseover=\"stop();\" onmouseout=\"start();\"> \\n\\t\\t      \\t\\t     <h5 style=\"width: 4800px;\"><div style=\"width:600px;float:left;\">Next RHCSA and RHCE Exam schedule on 18th feb 2019 at Pune </div><div style=\"width:600px;float:left;\">Next JOB Oriented Batch will be start on 20th feb 2019 at Indore</div><div style=\"width:600px;float:left;\">AWS Certification Exam Preparation Free of Cost on 15 feb 2019 Kindly register </div><div style=\"width:600px;float:left;\">Next JOB Oriented Batch will be start on 18th feb 2019</div><div style=\"width:600px;float:left;\">\\tNext RHCSA and RHCE Exam schedule on 24 Feb 2019 at Ahmedabad & Jaipur</div><div style=\"width:600px;float:left;\">Placement drive on 20th, 21th feb at GRRAS Ahmedabad For PHP openings</div><div style=\"width:600px;float:left;\">Next RHCSA, RHCE and Ex280 OpenShift Exam schedule on 24th Feb 2019 at Pune</div><div style=\"width:600px;float:left;\">\\tNext RHCSA and RHCE Exam schedule on 19th Feb 2019 at Indore</div></h5>\\n\\t\\t  </marquee>\\n                </div>\\n                <div class=\"contact_sec\">\\n                   <ul class=\"list-inline\">\\n\\t\\t       <li><a href=\"mailto:enquiry@grras.com\" style=\"color: #FFF;\"><i class=\"fa fa-envelope\"> </i> enquiry@grras.com</a></li>\\n\\t\\t       <li><a href=\"tel:+91-8448448523\" style=\"color: #FFF;\"><i class=\"fa fa-phone\"> </i> +91-8448448523</a></li> \\n                   </ul>\\n                </div>\\n            </div>\\n         </div>\\n      </section>\\n      <!-- End of Top Bar --> <style>\\n      #home_slider .carousel-inner .item:nth-child(1) {\\n      background: #000 url(\\'https://grras.com/files/v0n5yzrqfuprbxidndbx/Home page IT.jpg?s=1200x500\\') no-repeat center center scroll;\\n      background-size: cover;\\n    }\\n      #home_slider .carousel-inner .item:nth-child(2) {\\n      background: #000 url(\\'https://grras.com/files/bvg3uamf4vtmxhgzlkkg/Home page job oriented.jpg?s=1200x500\\') no-repeat center center scroll;\\n      background-size: cover;\\n    }\\n      #home_slider .carousel-inner .item:nth-child(3) {\\n      background: #000 url(\\'https://grras.com/files/jmncpykv3mgq0c92k71m/Homa page banner all course.jpg?s=1200x500\\') no-repeat center center scroll;\\n      background-size: cover;\\n    }\\n      #home_slider .carousel-inner .item:nth-child(4) {\\n      background: #000 url(\\'https://grras.com/files/kqnwbplwsox1zgykxnxj/home page bundle.jpg?s=1200x500\\') no-repeat center center scroll;\\n      background-size: cover;\\n    }\\n      #home_slider .carousel-inner .item:nth-child(5) {\\n      background: #000 url(\\'https://grras.com/files/dinhjpma7gliysk5c6jw/Home page academy.jpg?s=1200x500\\') no-repeat center center scroll;\\n      background-size: cover;\\n    }\\n      #home_slider .carousel-inner .item:nth-child(6) {\\n      background: #000 url(\\'https://grras.com/files/gfp9hyjfepmwxyg2vuyu/home redhat.jpg?s=1200x500\\') no-repeat center center scroll;\\n      background-size: cover;\\n    }\\n      #home_slider .carousel-inner .item:nth-child(7) {\\n      background: #000 url(\\'https://grras.com/files/ykd2v0asryhn0fxzp3ov/Home AWS.jpg?s=1200x500\\') no-repeat center center scroll;\\n      background-size: cover;\\n    }\\n      #home_slider .carousel-inner .item:nth-child(8) {\\n      background: #000 url(\\'https://grras.com/files/z3mbjhel8echhlsvz5tu/RHCA desktop latest.jpg?s=1200x500\\') no-repeat center center scroll;\\n      background-size: cover;\\n    }\\n    @media  screen and (max-width: 767px) {\\n          #home_slider .carousel-inner .item:nth-child(1) {\\n        background: #000 url(\\'https://grras.com/files/eaz3xpz8tk9pcwa1unwx/banner001_mobile.jpg?s=700x250\\');\\n        background-repeat: no-repeat;\\n        background-position: center center;\\n        background-attachment: scroll;\\n        background-size: cover;\\n        min-height: 320px;\\n        height: 380px!important;\\n      }\\n          #home_slider .carousel-inner .item:nth-child(2) {\\n        background: #000 url(\\'https://grras.com/files/2a6nywcuvld3bwsry38r/banner04_mobile.jpg?s=700x250\\');\\n        background-repeat: no-repeat;\\n        background-position: center center;\\n        background-attachment: scroll;\\n        background-size: cover;\\n        min-height: 320px;\\n        height: 380px!important;\\n      }\\n          #home_slider .carousel-inner .item:nth-child(3) {\\n        background: #000 url(\\'https://grras.com/files/ilye7r6p3ekha0ncyi6t/banner06_mobile.jpg?s=700x250\\');\\n        background-repeat: no-repeat;\\n        background-position: center center;\\n        background-attachment: scroll;\\n        background-size: cover;\\n        min-height: 320px;\\n        height: 380px!important;\\n      }\\n          #home_slider .carousel-inner .item:nth-child(4) {\\n        background: #000 url(\\'https://grras.com/files/sv5nrx6mua5q1xg6wqu7/banner02.jpg?s=700x250\\');\\n        background-repeat: no-repeat;\\n        background-position: center center;\\n        background-attachment: scroll;\\n        background-size: cover;\\n        min-height: 320px;\\n        height: 380px!important;\\n      }\\n          #home_slider .carousel-inner .item:nth-child(5) {\\n        background: #000 url(\\'https://grras.com/files/zsrbpskkanivcrv4wf7f/banner05_mobile.jpg?s=700x250\\');\\n        background-repeat: no-repeat;\\n        background-position: center center;\\n        background-attachment: scroll;\\n        background-size: cover;\\n        min-height: 320px;\\n        height: 380px!important;\\n      }\\n          #home_slider .carousel-inner .item:nth-child(6) {\\n        background: #000 url(\\'https://grras.com/files/ibzesnssubumzpy8sts4/Optimized-banner_04__1.jpg?s=700x250\\');\\n        background-repeat: no-repeat;\\n        background-position: center center;\\n        background-attachment: scroll;\\n        background-size: cover;\\n        min-height: 320px;\\n        height: 380px!important;\\n      }\\n          #home_slider .carousel-inner .item:nth-child(7) {\\n        background: #000 url(\\'https://grras.com/files/rsuoou5rz7ivr2vztll6/banner07_mobile.jpg?s=700x250\\');\\n        background-repeat: no-repeat;\\n        background-position: center center;\\n        background-attachment: scroll;\\n        background-size: cover;\\n        min-height: 320px;\\n        height: 380px!important;\\n      }\\n          #home_slider .carousel-inner .item:nth-child(8) {\\n        background: #000 url(\\'https://grras.com/files/cqakwllrznsohurincwf/bannermob.jpg?s=700x250\\');\\n        background-repeat: no-repeat;\\n        background-position: center center;\\n        background-attachment: scroll;\\n        background-size: cover;\\n        min-height: 320px;\\n        height: 380px!important;\\n      }\\n      }\\n</style>\\n    <!-- Header -->\\n      <header class=\"home-header hides\">\\n            <!-- Main Navigation -->\\n            <section class=\"menu_bar\">\\n               <div class=\"container custom-container\">\\n                  <nav class=\"navbar\">\\n                    <div class=\"navbar-header\">\\n                       <button type=\"button\" class=\"navbar-toggle\" data-toggle=\"collapse\" data-target=\"#myNavbar\">\\n                       <span class=\"icon-bar\"></span>\\n                       <span class=\"icon-bar\"></span>\\n                       <span class=\"icon-bar\"></span>\\n                       </button>\\n                       <a class=\"navbar-brand\" href=\"https://grras.com\"><img src=\"https://grras.com/files/dakconwrechyzezn0f6b/logo_main.png?s=71x60\" class=\"img-responsive\" alt=\"Grras Solutions Pvt. Ltd.\"/></a>\\n                    </div>\\n                    <div class=\"collapse navbar-collapse clearfix\" id=\"myNavbar\">\\n                       <ul class=\"nav navbar-nav my_navbar pull-right\"> \\n\\t\\t\\t  \\n\\t\\t\\t   \\t\\t\\t   <li class=\"\"><a href=\"https://grras.com/page/GRRAS-Solutions-Pvt-Ltd \">Our Company</a></li>  \\n\\t\\t\\t    \\n\\t\\t        <li class=\"dropdown\">\\n                         <a href=\"#\" class=\"dropdown-toggle\" data-toggle=\"dropdown\" role=\"button\" aria-haspopup=\"true\" aria-expanded=\"false\">Courses <span class=\"caret\"></span></a>\\n                         <ul class=\"dropdown-menu grras-dropdown-menu\">\\n\\t\\t\\t       \\n\\t\\t\\t     \\n\\t\\t\\t     <li><a href=\"https://grras.com/course/redhat-linux-rhce-certifications-training-in-jaipur-ahmedabad-indore\">RedHat Linux: RHCSA & RHCE</a></li>\\n\\t\\t\\n\\t\\t    \\n\\t\\t\\t     \\n\\t\\t\\t     <li><a href=\"https://grras.com/course/networking-cisco-ccna-certifications-training-in-jaipur-ahmedabad\">Networking: Cisco CCNA</a></li>\\n\\t\\t\\n\\t\\t    \\n\\t\\t\\t     \\n\\t\\t\\t     <li><a href=\"https://grras.com/course/aws-certifications-training-in-jaipur-ahmedabad-indore\">AWS Cloud Expert: AWS-CSA</a></li>\\n\\t\\t\\n\\t\\t    \\n\\t\\t\\t     \\n\\t\\t\\t     <li><a href=\"https://grras.com/course/big-data-hadoop-training-in-jaipur-ahmedabad\">Big Data Hadoop </a></li>\\n\\t\\t\\n\\t\\t    \\n\\t\\t\\t     \\n\\t\\t\\t     <li><a href=\"https://grras.com/course/python-programming-training-in-indore-jaipur-ahmedabad\">Python Programming </a></li>\\n\\t\\t\\n\\t\\t    \\n\\t\\t\\t     \\n\\t\\t\\t     <li><a href=\"https://grras.com/course/website-development-php-training-in-jaipur-ahmedabad\">Website Development - PHP</a></li>\\n\\t\\t\\n\\t\\t    \\n\\t\\t\\t     \\n\\t\\t\\t     <li><a href=\"https://grras.com/course/redhat-devops-ansible-automation-training-in-jaipur-ahmedabad-indore\">DEVOPS: Ansible Automation </a></li>\\n\\t\\t\\n\\t\\t    \\n\\t\\t\\t     \\n\\t\\t\\t     <li><a href=\"https://grras.com/course/redhat-linux-rhca-certifications-training-in-jaipur-ahmedabad-indore\">RHCA- Red Hat Certified Architect</a></li>\\n\\t\\t\\n\\t\\t    \\n                         </ul>\\n                       </li>\\n\\t\\t\\t       \\t\\t\\t   <li class=\"\"><a href=\"https://grras.com/page/redhat\">RHLS</a></li>  \\n\\t\\t\\t   \\t\\t\\t   <li class=\"\"><a href=\"https://grras.com/page/internship\">Internship</a></li>  \\n\\t\\t\\t   \\t\\t\\t   <li class=\"\"><a href=\"https://grras.com/page/ratings-reviews\">Rating & Reviews</a></li>  \\n\\t\\t\\t   \\t\\t\\t   <li class=\"\"><a href=\"https://grras.com/page/gallery\">Gallery</a></li>  \\n\\t\\t\\t   \\t\\t\\t   <li class=\"\"><a href=\"https://grras.com/page/contact-us\">Contact Us</a></li>  \\n\\t\\t\\t    \\n\\t\\t      \\n<!--                       <li>\\n                          <div id=\"search\" class=\"dropdown pull-right\">\\n                            <a class=\"dropdown-toggle\" data-toggle=\"dropdown\"><i class=\"lnr lnr-magnifier\"></i></a>\\n                            <div class=\"dropdown-menu dropdown-menu-right\">\\n                              <button type=\"button\" class=\"btn btn-default hidden\"><i class=\"lnr lnr-magnifier\"></i></button>\\n                              <input type=\"text\" name=\"search\" value=\"\" placeholder=\"Search\" class=\"form-control input-lg\">\\n                            </div>\\n                            <a class=\"dropdown-toggle\" data-toggle=\"dropdown\"><img src=\"img/_home_page/search.png\" width=\"30\" /></a>\\n                          </div>\\n                        </li>-->\\n </ul>\\n                    </div>\\n                  </nav>\\n               </div>\\n            </section>            <!-- End of Main Navigation -->\\n\\n          <!-- Home Slider -->\\n          <div id=\"home_slider\" class=\"carousel slide\" data-ride=\"carousel\">\\n            <!-- Wrapper for slides -->\\n            <div class=\"carousel-inner\" role=\"listbox\">\\n\\n\\t\\t\\t\\t<div class=\"item active\">\\n                <div class=\"carousel-caption\">\\n                    <div class=\"container custom-container\">\\n                       <div class=\"slider_content \" >\\n\\t\\t\\t    \\t\\t\\t   <img class=\"hide\" src=\"https://grras.com/files/v0n5yzrqfuprbxidndbx/Home page IT.jpg?s=1200x500\"  alt=\"Corporate Training in Indore\"/> \\n\\t\\t\\n                          <h1> Explore the right IT Career </h1>\\n                          <p> Enhance and develop with us all kinds of skills in latest technologies including Linux, Red Hat training, Python, Cisco training, Artificial Intelligence, DevOps and Amazon Web Services and Cloud Computing</p>\\n       \\t\\t\\t  <a href=\"http://www.grras.com/page/contact-us#enquiry-form\"><button type=\"button\"> Register Now</button></a>\\n\\t\\t\\t                         </div>\\n                    </div>\\n                </div>\\n              </div>\\n\\t\\t  \\t\\t<div class=\"item \">\\n                <div class=\"carousel-caption\">\\n                    <div class=\"container custom-container\">\\n                       <div class=\"slider_content \" style=\"display:none;\">\\n\\t\\t\\t   \\n                          <h1>  </h1>\\n                          <p> </p>\\n       \\t\\t\\t  <a href=\"http://www.grras.com/page/contact-us#enquiry-form\"><button type=\"button\"> Register Now</button></a>\\n\\t\\t\\t                         </div>\\n                    </div>\\n                </div>\\n              </div>\\n\\t\\t  \\t\\t<div class=\"item \">\\n                <div class=\"carousel-caption\">\\n                    <div class=\"container custom-container\">\\n                       <div class=\"slider_content \" style=\"display:none;\">\\n\\t\\t\\t   \\n                          <h1>  </h1>\\n                          <p> </p>\\n       \\t\\t\\t  <a href=\"http://www.grras.com/page/contact-us#enquiry-form\"><button type=\"button\"> Register Now</button></a>\\n\\t\\t\\t                         </div>\\n                    </div>\\n                </div>\\n              </div>\\n\\t\\t  \\t\\t<div class=\"item \">\\n                <div class=\"carousel-caption\">\\n                    <div class=\"container custom-container\">\\n                       <div class=\"slider_content slider_content_bg\" >\\n\\t\\t\\t   \\n                          <h1> <h1 class=\"slider_content_title\">Meet the Awarded and Authorized <span class=\"text-yellow\">RedHat & AWS Training</span> Partner</h1> </h1>\\n                          <p> <h2 class=\"slider_content_subtitle\">Choose your bundle of courses and get <span class=\"text-green\">flat 25%</span> on certification.</h2></p>\\n               <!--                  <img src=\"img/_banners/trophy.png\" alt=\"Trophy/Awards\" class=\"banner_trophy\" />\\n                  <h1 class=\"slider_content_title\">Meet the awarded and authorized <span class=\"text-yellow\">Redhat Training</span> partner</h1>\\n                  <h2 class=\"slider_content_subtitle\">Choose your bundle of courses and get <span class=\"text-green\">flat 50%</span> on certification.</h2>-->\\n\\n\\t\\t\\t<div class=\"banner-table\">\\n        <div class=\"table-responsive\">\\n          <table class=\"table text-center table-main\">\\n            <tfoot class=\"hidden-xs\">\\n              <tr>\\n                                <td style=\"width:33.333333333333%\">\\n                  <table class=\"tables table-bordered text-center\" style=\"width:100%;\">\\n                    <tbody>\\n                      <tr><td>Bundle1</td></tr>\\n                      <tr><td>RHCE</td></tr>\\n                      <tr><td>RHCA</td></tr>\\n                      <tr><td>AWS-CSA</td></tr>\\n                    </tbody>\\n                  </table>\\n                </td>\\n                              <td style=\"width:33.333333333333%\">\\n                  <table class=\"tables table-bordered text-center\" style=\"width:100%;\">\\n                    <tbody>\\n                      <tr><td>Bundle2</td></tr>\\n                      <tr><td>RHCE</td></tr>\\n                      <tr><td>Python</td></tr>\\n                      <tr><td>Machine Learning </td></tr>\\n                    </tbody>\\n                  </table>\\n                </td>\\n                              <td style=\"width:33.333333333333%\">\\n                  <table class=\"tables table-bordered text-center\" style=\"width:100%;\">\\n                    <tbody>\\n                      <tr><td>Bundle3</td></tr>\\n                      <tr><td>RHCE</td></tr>\\n                      <tr><td>AWS-CSA</td></tr>\\n                      <tr><td>DEV-OPS</td></tr>\\n                    </tbody>\\n                  </table>\\n                </td>\\n                            </tr>\\n            </tfoot>\\n            <tbody class=\"hidden-sm hidden-md hidden-lg\">\\n\\t           <tr>\\n\\t\\t\\t       \\t       <td style=\"width:33.333333333333%\">\\n\\t        <table class=\"tables table-bordered text-center\" style=\"width:100%;\">\\n\\t\\t\\t     <tbody>\\n\\t\\t\\t\\t    <tr><td>Bundle1</td></tr>\\n\\t          <tr><td>RHCE</td></tr>\\n\\t          <tr><td>RHCA</td></tr>\\n\\t          <tr><td>AWS-CSA</td></tr>\\n\\t\\t\\t     </tbody>\\n\\t\\t\\t    </table>\\n\\t\\t\\t\\t</td>\\n\\t\\t\\t\\t \\t       <td style=\"width:33.333333333333%\">\\n\\t        <table class=\"tables table-bordered text-center\" style=\"width:100%;\">\\n\\t\\t\\t     <tbody>\\n\\t\\t\\t\\t    <tr><td>Bundle2</td></tr>\\n\\t          <tr><td>RHCE</td></tr>\\n\\t          <tr><td>Python</td></tr>\\n\\t          <tr><td>Machine Learning </td></tr>\\n\\t\\t\\t     </tbody>\\n\\t\\t\\t    </table>\\n\\t\\t\\t\\t</td>\\n\\t\\t\\t\\t \\t       <td style=\"width:33.333333333333%\">\\n\\t        <table class=\"tables table-bordered text-center\" style=\"width:100%;\">\\n\\t\\t\\t     <tbody>\\n\\t\\t\\t\\t    <tr><td>Bundle3</td></tr>\\n\\t          <tr><td>RHCE</td></tr>\\n\\t          <tr><td>AWS-CSA</td></tr>\\n\\t          <tr><td>DEV-OPS</td></tr>\\n\\t\\t\\t     </tbody>\\n\\t\\t\\t    </table>\\n\\t\\t\\t\\t</td>\\n\\t\\t\\t\\t           </tr>\\n\\t         <tr>\\n\\t\\t\\t                     </tr>\\n              </tbody>\\n            </table>\\n          </div>\\n        </div>\\n\\t\\t\\t  \\t\\t\\t  <a href=\"http://www.grras.com/page/contact-us#enquiry-form\"><button type=\"button\"> Register Now</button></a>\\n\\t\\t\\t                         </div>\\n                    </div>\\n                </div>\\n              </div>\\n\\t\\t  \\t\\t<div class=\"item \">\\n                <div class=\"carousel-caption\">\\n                    <div class=\"container custom-container\">\\n                       <div class=\"slider_content \" style=\"display:none;\">\\n\\t\\t\\t   \\n                          <h1>  </h1>\\n                          <p> </p>\\n       \\t\\t\\t  <a href=\"http://www.grras.com/page/contact-us#enquiry-form\"><button type=\"button\"> Register Now</button></a>\\n\\t\\t\\t                         </div>\\n                    </div>\\n                </div>\\n              </div>\\n\\t\\t  \\t\\t<div class=\"item \">\\n                <div class=\"carousel-caption\">\\n                    <div class=\"container custom-container\">\\n                       <div class=\"slider_content \" >\\n\\t\\t\\t   \\n                          <h1> Manifesting successful IT career through expertise <br>training and knowledge </h1>\\n                          <p> Build your IT profession with all the most up-to-date technologies like Red Hat, Machine Learning, Cloud, Python, <br>DevOps, Bigdata, and Data Science with us. Enroll now to open the door of opportunities. </p>\\n       \\t\\t\\t  <a href=\"http://www.grras.com/page/contact-us#enquiry-form\"><button type=\"button\"> Register Now</button></a>\\n\\t\\t\\t                         </div>\\n                    </div>\\n                </div>\\n              </div>\\n\\t\\t  \\t\\t<div class=\"item \">\\n                <div class=\"carousel-caption\">\\n                    <div class=\"container custom-container\">\\n                       <div class=\"slider_content \" >\\n\\t\\t\\t   \\n                          <h1> To Become an Expert AWS Solutions Architect  </h1>\\n                          <p> Become a Part of Open Source Ecosystem and AWS and getting Never - ending JOB Opportunities in the Cloud Sector. </p>\\n       \\t\\t\\t  <a href=\"http://www.grras.com/page/contact-us#enquiry-form\"><button type=\"button\"> Register Now</button></a>\\n\\t\\t\\t                         </div>\\n                    </div>\\n                </div>\\n              </div>\\n\\t\\t  \\t\\t<div class=\"item \">\\n                <div class=\"carousel-caption\">\\n                    <div class=\"container custom-container\">\\n                       <div class=\"slider_content \" style=\"display:none;\">\\n\\t\\t\\t   \\n                          <h1>  </h1>\\n                          <p> </p>\\n                              </div>\\n                    </div>\\n                </div>\\n              </div>\\n\\t\\t              </div>\\n\\n            <!-- Controls -->\\n            <a class=\"left carousel-control\" href=\"#home_slider\" role=\"button\" data-slide=\"prev\">\\n              <span class=\"glyphicon glyphicon-chevron-left\" aria-hidden=\"true\"></span>\\n              <span class=\"sr-only\">Previous</span>\\n            </a>\\n            <a class=\"right carousel-control\" href=\"#home_slider\" role=\"button\" data-slide=\"next\">\\n              <span class=\"glyphicon glyphicon-chevron-right\" aria-hidden=\"true\"></span>\\n              <span class=\"sr-only\">Next</span>\\n            </a>\\n          </div>\\n          <!-- End of slider -->\\n      </header>\\n      <!-- End of header -->\\n\\n      <!-- Our Program Section -->\\n      <section class=\"our_program\">\\n         <div class=\"container-fluid\">\\n            <div class=\"program-block\">\\n               <!--first program row-->\\n\\t       \\t\\t\\t     <div class=\"program_box\" >\\n                 <div class=\"img_thumb\">\\n                    <img data-original=\"https://grras.com/files/wzpuosviedlrtk5lognd/optimized.jpg?s=500x400\" src=\"https://grras.com/img/placeholder.png\" class=\"lazy img-responsive\" alt=\"Classroom Training\"/>\\n                    <div class=\"img-title\">Classroom Training </div>\\n                </div>\\n                 <div class=\"pro_content\" data-aos=\"fade-up\">\\n                    <p>One can select the technology they want to study or group different technologies they want to learn. Enroll with us to get hands-on-lab experience in RedHat, AWS, Python, Artificial Intelligence, Cloud Computing, DevOps, Bigdata, and CISCO with us. </p>\\n                 </div>\\n\\t\\t    <a href=\"http://www.grras.com/page/Contact-US#enquiry-form\"><div class=\"pro_footer\"><i class=\"fa fa-long-arrow-right fa-2x\"></i></div></a>\\n               </div>\\n\\t\\t  \\t\\t\\t     <div class=\"program_box\" >\\n                 <div class=\"img_thumb\">\\n                    <img data-original=\"https://grras.com/files/8rhqafczbnewaurm3n3z/Corporate training optimized.jpg?s=500x400\" src=\"https://grras.com/img/placeholder.png\" class=\"lazy img-responsive\" alt=\"Corporate Training Provider - Grras Solutions\"/>\\n                    <div class=\"img-title\">Corporate Training </div>\\n                </div>\\n                 <div class=\"pro_content\" data-aos=\"fade-up\">\\n                    <p>This program is designed for working professionals or companies who need to train and upgrade their workforce in technologies like IT, Linux, CISCO, AWS, and more. These trainings have flexibilities in terms of premises selection: in-house or outbound. </p>\\n                 </div>\\n\\t\\t    <a href=\"http://www.grras.com/page/Contact-US#enquiry-form\"><div class=\"pro_footer\"><i class=\"fa fa-long-arrow-right fa-2x\"></i></div></a>\\n               </div>\\n\\t\\t  \\n\\n               <div class=\"program_box less_border_box\" >\\n                  <div class=\"\">\\n                     <h2 class=\"text-uppercase\">EXPLORE <br>THE<br> BEST</h2>\\n                  </div>\\n               </div>\\n            </div>\\n            <!--first program row close-->\\n            <div class=\"program-block \">\\n               <!--second program row-->\\n               <div class=\"col-md-4 program_box less_border_box\" data-aos=\"fade-up\">\\n                  <div class=\"text-left\">\\n                     <h2 class=\"text-uppercase\">CAREER<br> ORIENTED<br> COURSES </h2>\\n                  </div>\\n               </div>\\n\\n\\t       \\t\\t<div class=\"program_box\" data-aos=\"fade-up\">\\n\\t\\t        <a href=\"https://grras.com/page/internship\" style=\"color:#333333;\">\\n                 <div class=\"img_thumb\">\\n                    <img data-original=\"https://grras.com/files/oltaxfl6ochrorrtmzpb/optimized.jpg?s=500x400\" src=\"https://grras.com/img/placeholder.png\" class=\"lazy img-responsive\" alt=\"Internship Training Program in Indore\"/>\\n                    <div class=\"img-title\">Internship Training Program</div>\\n                </div>\\n                 <div class=\"pro_content\">\\n                    <p>Become an IT- Professional by getting on-the-job training experience under our expertise guidance to get an industry insight and prepare you for a real world. Join our internship programs and build your career in IT field with our expert trainers. </p>\\n                 </div>\\n\\t\\t<div class=\"pro_footer\"><i class=\"fa fa-long-arrow-right fa-2x\"></i></div></a>\\n               </div>\\n\\t\\t  \\t\\t<div class=\"program_box\" data-aos=\"fade-up\">\\n\\t\\t        <a href=\"https://grras.com/page/Contact-US#enquiry-form\" style=\"color:#333333;\">\\n                 <div class=\"img_thumb\">\\n                    <img data-original=\"https://grras.com/files/tewlruxl5j0fyz5n2h3l/Job oriented optimized.jpg?s=500x400\" src=\"https://grras.com/img/placeholder.png\" class=\"lazy img-responsive\" alt=\"Job Oriented Courses for Graduates\"/>\\n                    <div class=\"img-title\">JOB Oriented Program</div>\\n                </div>\\n                 <div class=\"pro_content\">\\n                    <p>Our Job Oriented Program is a unique program that offers you 100% job guarantee along with IT training in all domains including internship experience, certifications, hands-on-lab practice, soft skills training, all of which would in turn make you job ready. </p>\\n                 </div>\\n\\t\\t<div class=\"pro_footer\"><i class=\"fa fa-long-arrow-right fa-2x\"></i></div></a>\\n               </div>\\n\\t\\t  \\n\\n            </div>\\n         </div>\\n      </section>\\n      <!-- End of Our Program Section -->\\n\\n      <!-- Courses Section -->\\n      <section class=\"coureses_bg myhide\">\\n         <div class=\"pink_bg\">\\n            <div class=\"container\">\\n               <div class=\"row d-flex\">\\n                  <div class=\"col-lg-3 col-md-4 col-sm-6 col-xs-12\">\\n                     <div class=\"courese_details\">\\n                        <h1> Demanding Courses in the market </h1>\\n                        <p>Get the latest insights of the newest technologies in the market that can get you that dream job of yours into the top multinational companies.  </p>\\n                     </div>\\n                  </div>\\n\\n\\t\\t   \\n\\t\\t   <div class=\"col-lg-3 col-md-4 col-sm-6 col-xs-12\">\\n                     <div class=\"course_box\">\\n                        <div class=\"c_thumb\">\\n\\n                           <img data-original=\"https://grras.com/files/clpkdoqm7f7aegntohvt/AWS Optimized.jpg?s=306x306\" src=\"https://grras.com/img/placeholder.png\" class=\"lazy img-responsive\" alt=\"AWS Cloud\"/>\\n                        </div>\\n                        <div class=\"course_para\">\\n                           <h1>AWS Cloud</h1>\\n                           <p>Amazon Web Services is an emerging technology which is right now at the boom in the market. It is a protected cloud services platform that offers database storage, compute and other aspects that in the growth and balance of businesses.</p>\\n                        </div>\\n                        <div class=\"large_btn\">\\n\\t\\t\\t    <center><a href=\"https://grras.com/course/aws-certifications-training-in-jaipur-ahmedabad-indore\"><button type=\"button\">View More</button><img src=\"img/aero.png\" width=\"40\" alt=\"aero\"> </a></center>                        </div>\\n                     </div>\\n                  </div>\\n\\t\\t  \\n\\t\\t   <div class=\"col-lg-3 col-md-4 col-sm-6 col-xs-12\">\\n                     <div class=\"course_box\">\\n                        <div class=\"c_thumb\">\\n\\n                           <img data-original=\"https://grras.com/files/lfxbbptdtnqkrcibpktr/RedHat optimized.jpg?s=306x306\" src=\"https://grras.com/img/placeholder.png\" class=\"lazy img-responsive\" alt=\"Red Hat Enterprise Linux \"/>\\n                        </div>\\n                        <div class=\"course_para\">\\n                           <h1>RedHat Linux</h1>\\n                           <p>All the multinational companies these days are switching to Linux as it is a safe, secured and customized platform that keeps the data secured. Red Hat Linux is one such popular and the most demanding flavor of Linux because of its credibility and easy understandability.</p>\\n                        </div>\\n                        <div class=\"large_btn\">\\n\\t\\t\\t    <center><a href=\"https://grras.com/course/redhat-linux-rhce-certifications-training-in-jaipur-ahmedabad-indore\"><button type=\"button\">View More</button><img src=\"img/aero.png\" width=\"40\" alt=\"aero\"> </a></center>                        </div>\\n                     </div>\\n                  </div>\\n\\t\\t  \\n\\t\\t   <div class=\"col-lg-3 col-md-4 col-sm-6 col-xs-12\">\\n                     <div class=\"course_box\">\\n                        <div class=\"c_thumb\">\\n\\n                           <img data-original=\"https://grras.com/files/5egjqifogtxheseo0rqy/CCNA optimized.jpg?s=306x306\" src=\"https://grras.com/img/placeholder.png\" class=\"lazy img-responsive\" alt=\"CISCO CCNA Certifications\"/>\\n                        </div>\\n                        <div class=\"course_para\">\\n                           <h1>CISCO CCNA</h1>\\n                           <p>Career in networking is reaching to another height because of the upgrading technology in the market and the increasing inclination towards virtualization. So go for CCNA if you foresee your career in the field of Networking, Cyber Security, Switching and Routing.</p>\\n                        </div>\\n                        <div class=\"large_btn\">\\n\\t\\t\\t    <center><a href=\"https://grras.com/course/networking-cisco-ccna-certifications-training-in-jaipur-ahmedabad\"><button type=\"button\">View More</button><img src=\"img/aero.png\" width=\"40\" alt=\"aero\"> </a></center>                        </div>\\n                     </div>\\n                  </div>\\n\\t\\t  \\n\\t\\t   <div class=\"col-lg-3 col-md-4 col-sm-6 col-xs-12\">\\n                     <div class=\"course_box\">\\n                        <div class=\"c_thumb\">\\n\\n                           <img data-original=\"https://grras.com/files/s7gvyaskq7nwbnkjtrlz/Big Data optimized.jpg?s=306x306\" src=\"https://grras.com/img/placeholder.png\" class=\"lazy img-responsive\" alt=\"Big Data Hadoop Training in Ahmedabad\"/>\\n                        </div>\\n                        <div class=\"course_para\">\\n                           <h1>Big Data Hadoop</h1>\\n                           <p>In the world of Open-Source technology, Big Data Hadoop is a structure of storing data and running applications on clusters of commodity hardware. It provides huge storage and massive processing power and all the hi-tech companies are looking for skilled expertise who can handle their data storage.</p>\\n                        </div>\\n                        <div class=\"large_btn\">\\n\\t\\t\\t    <center><a href=\"https://grras.com/course/big-data-hadoop-training-in-jaipur-ahmedabad\"><button type=\"button\">View More</button><img src=\"img/aero.png\" width=\"40\" alt=\"aero\"> </a></center>                        </div>\\n                     </div>\\n                  </div>\\n\\t\\t  \\n\\t\\t   <div class=\"col-lg-3 col-md-4 col-sm-6 col-xs-12\">\\n                     <div class=\"course_box\">\\n                        <div class=\"c_thumb\">\\n\\n                           <img data-original=\"https://grras.com/files/ejzoweksk8uttzf7m9ku/Python optimized.jpg?s=306x306\" src=\"https://grras.com/img/placeholder.png\" class=\"lazy img-responsive\" alt=\"Python Training in Jaipur\"/>\\n                        </div>\\n                        <div class=\"course_para\">\\n                           <h1>Python</h1>\\n                           <p>An interesting high-level programming language for all technology freaked IT aspirants who anticipate their career in the field of information technology. It is simple, easy to learn structure underlines readability and therefore minimizes the price of program maintenance. </p>\\n                        </div>\\n                        <div class=\"large_btn\">\\n\\t\\t\\t    <center><a href=\"https://grras.com/course/python-programming-training-in-indore-jaipur-ahmedabad\"><button type=\"button\">View More</button><img src=\"img/aero.png\" width=\"40\" alt=\"aero\"> </a></center>                        </div>\\n                     </div>\\n                  </div>\\n\\t\\t  \\n\\t\\t   <div class=\"col-lg-3 col-md-4 col-sm-6 col-xs-12\">\\n                     <div class=\"course_box\">\\n                        <div class=\"c_thumb\">\\n\\n                           <img data-original=\"https://grras.com/files/a6c1e68mu9uxab7e4u3j/Php optimized.jpg?s=306x306\" src=\"https://grras.com/img/placeholder.png\" class=\"lazy img-responsive\" alt=\"PHP Training in Indore\"/>\\n                        </div>\\n                        <div class=\"course_para\">\\n                           <h1>Website Development </h1>\\n                           <p>The demand for a website developer never goes out of market; therefore website development is one such course which is always in high demand as all the companies, be it    a start up or a hi-tech multinational company search for a good developer who can build and maintain the digital presence of the company in the form of their website.</p>\\n                        </div>\\n                        <div class=\"large_btn\">\\n\\t\\t\\t    <center><a href=\"https://grras.com/course/website-development-php-training-in-jaipur-ahmedabad\"><button type=\"button\">View More</button><img src=\"img/aero.png\" width=\"40\" alt=\"aero\"> </a></center>                        </div>\\n                     </div>\\n                  </div>\\n\\t\\t  \\n\\t\\t   <div class=\"col-lg-3 col-md-4 col-sm-6 col-xs-12\">\\n                     <div class=\"course_box\">\\n                        <div class=\"c_thumb\">\\n\\n                           <img data-original=\"https://grras.com/files/4xcuoza4zekndpsmpsmr/android optimize.jpg?s=306x306\" src=\"https://grras.com/img/placeholder.png\" class=\"lazy img-responsive\" alt=\"Mobile App Development in Jaipur\"/>\\n                        </div>\\n                        <div class=\"course_para\">\\n                           <h1>Mobile Development </h1>\\n                           <p>This course is meant for all the mobile app freaks that are curious to know the procedure behind building an application, its functionality and want to develop an application of their own. Android, iOS are trending into the market and has highly captivated all the attention. </p>\\n                        </div>\\n                        <div class=\"large_btn\">\\n\\t\\t\\t    <center><a href=\"http://www.grras.com/course/Mobile-Development-Android\"><button type=\"button\">View More</button><img src=\"img/aero.png\" width=\"40\" alt=\"aero\"> </a></center>                        </div>\\n                     </div>\\n                  </div>\\n\\t\\t  \\n\\n               </div>\\n            </div>\\n<!--            <div class=\"text-center\">\\n                <a href=\"#\" style=\"text-decoration: none; color: white;\"> View Course <img src=\"img/aero.png\" width=\"40\" /> </a>\\n            </div>-->\\n         </div>\\n      </section>\\n      <!-- End of Courses Section -->\\n\\n      <!-- Our Partners Section -->\\n      <section class=\"our_partners myhide\">\\n         <div class=\"container custom-container\">\\n            <div class=\"row\">\\n                <div class=\"col-lg-12 text-center\">\\n                    <h1>Latest Technology in the Market</h1>\\n                    <h2>Get trained and skilled into the latest technologies demanded by the top IT companies</h2>\\n                </div>\\n               <div class=\"col-lg-12\">\\n                  <div class=\"row\">\\n                    <div class=\"courses-container owl-carousel owl-theme\" id=\"coursesContainer\">\\n\\t\\t\\t\\t\\t   <div class=\"company_thumbs ih-item square effect6 from_top_and_bottom\">\\n                        <a href=\"#\">\\n                          <div class=\"img\"><img src=\"https://grras.com/files/i28m4farnlyzxx6wxpxs/redhat optimized.jpg?s=157x130\" class=\"img-responsive\" alt=\"Red Hat\"></div>\\n                          <div class=\"info\">\\n                          </div>\\n                        </a>\\n                      </div>\\n\\t\\t  \\t\\t   <div class=\"company_thumbs ih-item square effect6 from_top_and_bottom\">\\n                        <a href=\"#\">\\n                          <div class=\"img\"><img src=\"https://grras.com/files/6hmeh2rrc3gm57nngv49/CISCO optimized.jpg?s=157x130\" class=\"img-responsive\" alt=\"cisco training\"></div>\\n                          <div class=\"info\">\\n                          </div>\\n                        </a>\\n                      </div>\\n\\t\\t  \\t\\t   <div class=\"company_thumbs ih-item square effect6 from_top_and_bottom\">\\n                        <a href=\"#\">\\n                          <div class=\"img\"><img src=\"https://grras.com/files/mu4c7uifwyy1l0hefaho/AWS optimized.jpg?s=157x130\" class=\"img-responsive\" alt=\"Amazon Web Services (AWS)\"></div>\\n                          <div class=\"info\">\\n                          </div>\\n                        </a>\\n                      </div>\\n\\t\\t  \\t\\t   <div class=\"company_thumbs ih-item square effect6 from_top_and_bottom\">\\n                        <a href=\"#\">\\n                          <div class=\"img\"><img src=\"https://grras.com/files/rwb4ba7ytnarerg0eepd/cloud optimize.jpg?s=157x130\" class=\"img-responsive\" alt=\"Cloud Computing\"></div>\\n                          <div class=\"info\">\\n                          </div>\\n                        </a>\\n                      </div>\\n\\t\\t  \\t\\t   <div class=\"company_thumbs ih-item square effect6 from_top_and_bottom\">\\n                        <a href=\"#\">\\n                          <div class=\"img\"><img src=\"https://grras.com/files/2khfpd73ukziraspnkup/Python optimize.jpg?s=157x130\" class=\"img-responsive\" alt=\"Python Training\"></div>\\n                          <div class=\"info\">\\n                          </div>\\n                        </a>\\n                      </div>\\n\\t\\t  \\t\\t   <div class=\"company_thumbs ih-item square effect6 from_top_and_bottom\">\\n                        <a href=\"#\">\\n                          <div class=\"img\"><img src=\"https://grras.com/files/18glfshcmdaz9c1cdczp/Ansible optimize.jpg?s=157x130\" class=\"img-responsive\" alt=\"Ansible\"></div>\\n                          <div class=\"info\">\\n                          </div>\\n                        </a>\\n                      </div>\\n\\t\\t  \\t\\t   <div class=\"company_thumbs ih-item square effect6 from_top_and_bottom\">\\n                        <a href=\"#\">\\n                          <div class=\"img\"><img src=\"https://grras.com/files/5g87e4kiij13wlysa6wx/docket optimize.jpg?s=157x130\" class=\"img-responsive\" alt=\"Docker\"></div>\\n                          <div class=\"info\">\\n                          </div>\\n                        </a>\\n                      </div>\\n\\t\\t  \\t\\t   <div class=\"company_thumbs ih-item square effect6 from_top_and_bottom\">\\n                        <a href=\"#\">\\n                          <div class=\"img\"><img src=\"https://grras.com/files/2av2uavqor6x3ceohnes/Devops optimize.jpg?s=157x130\" class=\"img-responsive\" alt=\"devops online training\"></div>\\n                          <div class=\"info\">\\n                          </div>\\n                        </a>\\n                      </div>\\n\\t\\t  \\t\\t   <div class=\"company_thumbs ih-item square effect6 from_top_and_bottom\">\\n                        <a href=\"#\">\\n                          <div class=\"img\"><img src=\"https://grras.com/files/blnqtpldfcuuh3komj63/artificial-intelligence optimize.jpg?s=157x130\" class=\"img-responsive\" alt=\"artificial intelligence course\"></div>\\n                          <div class=\"info\">\\n                          </div>\\n                        </a>\\n                      </div>\\n\\t\\t  \\t\\t   <div class=\"company_thumbs ih-item square effect6 from_top_and_bottom\">\\n                        <a href=\"#\">\\n                          <div class=\"img\"><img src=\"https://grras.com/files/jx6ho9tnovmawukqoprp/Automation optimize.jpg?s=157x130\" class=\"img-responsive\" alt=\"automation courses\"></div>\\n                          <div class=\"info\">\\n                          </div>\\n                        </a>\\n                      </div>\\n\\t\\t                      </div>\\n                  </div>\\n               </div>\\n            </div>\\n         </div>\\n      </section>\\n      <!-- End of Our Partners Section -->\\n\\n      <!-- End of Our Hiring Partners Section -->\\n         <!-- End of Our Hiring Partners Section -->\\n     <section class=\"hiring_partners myhide\">\\n         <div class=\"container custom-container\">\\n            <div class=\"row\">\\n                <div class=\"col-lg-12 text-center\">\\n                    <h1>Our Hiring Partners</h1>\\n                    <h2>We are globally connected with the top IT companies </h2>\\n                    <p>We are connected with companies with different industries across the nation. Our dedicated placement cell is constantly striving to get more companies on-board</p>\\n                </div>\\n                <div class=\"col-lg-12 mt-3\">\\n                  <div class=\"row\">\\n\\t\\t         \\n\\t\\t      <div class=\"col-lg-2 col-md-3 col-sm-4 col-xs-6\">\\n                        <div class=\"company_thumbs float-shadow\">\\n\\t\\t\\t    <img data-original=\"https://grras.com/files/jr4hgseokhpy0oxvf3zq/cyberroam.jpg?s=160x100\"  class=\"lazy img-responsive\" src=\"https://grras.com/img/placeholder.png\" alt=\"Cyberoam\">\\n                        </div>\\n                     </div>\\n\\t\\t      \\n\\t\\t     \\n\\t\\t      <div class=\"col-lg-2 col-md-3 col-sm-4 col-xs-6\">\\n                        <div class=\"company_thumbs float-shadow\">\\n\\t\\t\\t    <img data-original=\"https://grras.com/files/9xoqf7pwvcvrelqts6tr/digital-ocean.jpg?s=160x100\"  class=\"lazy img-responsive\" src=\"https://grras.com/img/placeholder.png\" alt=\"Digital Ocean\">\\n                        </div>\\n                     </div>\\n\\t\\t      \\n\\t\\t     \\n\\t\\t      <div class=\"col-lg-2 col-md-3 col-sm-4 col-xs-6\">\\n                        <div class=\"company_thumbs float-shadow\">\\n\\t\\t\\t    <img data-original=\"https://grras.com/files/zj0s8veg5kkbd8vygswr/makemytrip.jpg?s=160x100\"  class=\"lazy img-responsive\" src=\"https://grras.com/img/placeholder.png\" alt=\"Make my Trip\">\\n                        </div>\\n                     </div>\\n\\t\\t      \\n\\t\\t     \\n\\t\\t      <div class=\"col-lg-2 col-md-3 col-sm-4 col-xs-6\">\\n                        <div class=\"company_thumbs float-shadow\">\\n\\t\\t\\t    <img data-original=\"https://grras.com/files/bka5pxiwbqgjbiqfyqh5/genpact.jpg?s=160x100\"  class=\"lazy img-responsive\" src=\"https://grras.com/img/placeholder.png\" alt=\"Genpact\">\\n                        </div>\\n                     </div>\\n\\t\\t      \\n\\t\\t     \\n\\t\\t      <div class=\"col-lg-2 col-md-3 col-sm-4 col-xs-6\">\\n                        <div class=\"company_thumbs float-shadow\">\\n\\t\\t\\t    <img data-original=\"https://grras.com/files/d6oqluclxhnnv6dpjvxz/redhat.jpg?s=160x100\"  class=\"lazy img-responsive\" src=\"https://grras.com/img/placeholder.png\" alt=\"Red Hat Certifications program\">\\n                        </div>\\n                     </div>\\n\\t\\t      \\n\\t\\t     \\n\\t\\t      <div class=\"col-lg-2 col-md-3 col-sm-4 col-xs-6\">\\n                        <div class=\"company_thumbs float-shadow\">\\n\\t\\t\\t    <img data-original=\"https://grras.com/files/hpoxyglejns2yq7dkbpd/TCS.jpg?s=160x100\"  class=\"lazy img-responsive\" src=\"https://grras.com/img/placeholder.png\" alt=\"TCS\">\\n                        </div>\\n                     </div>\\n\\t\\t      \\n\\t\\t     \\n\\t\\t      <div class=\"col-lg-2 col-md-3 col-sm-4 col-xs-6\">\\n                        <div class=\"company_thumbs float-shadow\">\\n\\t\\t\\t    <img data-original=\"https://grras.com/files/xsutlcsrojns8xghfkwc/sophos.jpg?s=160x100\"  class=\"lazy img-responsive\" src=\"https://grras.com/img/placeholder.png\" alt=\"SOPHOS Platinum Partner\">\\n                        </div>\\n                     </div>\\n\\t\\t      \\n\\t\\t     \\n\\t\\t      <div class=\"col-lg-2 col-md-3 col-sm-4 col-xs-6\">\\n                        <div class=\"company_thumbs float-shadow\">\\n\\t\\t\\t    <img data-original=\"https://grras.com/files/ux6dvzuwg3rj7p9ktu87/rackspace.jpg?s=160x100\"  class=\"lazy img-responsive\" src=\"https://grras.com/img/placeholder.png\" alt=\"rackspace server\">\\n                        </div>\\n                     </div>\\n\\t\\t      \\n\\t\\t     \\n\\t\\t      <div class=\"col-lg-2 col-md-3 col-sm-4 col-xs-6\">\\n                        <div class=\"company_thumbs float-shadow\">\\n\\t\\t\\t    <img data-original=\"https://grras.com/files/vnnuvkbbdm2v9lsbto3d/knowarth.jpg?s=160x100\"  class=\"lazy img-responsive\" src=\"https://grras.com/img/placeholder.png\" alt=\"knowarth technologies\">\\n                        </div>\\n                     </div>\\n\\t\\t      \\n\\t\\t     \\n\\t\\t      <div class=\"col-lg-2 col-md-3 col-sm-4 col-xs-6\">\\n                        <div class=\"company_thumbs float-shadow\">\\n\\t\\t\\t    <img data-original=\"https://grras.com/files/knwskuszqowxellzxvza/elitecore.jpg?s=160x100\"  class=\"lazy img-responsive\" src=\"https://grras.com/img/placeholder.png\" alt=\"elitecore\">\\n                        </div>\\n                     </div>\\n\\t\\t      \\n\\t\\t     \\n\\t\\t      <div class=\"col-lg-2 col-md-3 col-sm-4 col-xs-6\">\\n                        <div class=\"company_thumbs float-shadow\">\\n\\t\\t\\t    <img data-original=\"https://grras.com/files/aondvc6m3nyihjqrtax6/GIP-Technologies.jpg?s=160x100\"  class=\"lazy img-responsive\" src=\"https://grras.com/img/placeholder.png\" alt=\"GIP Technologies\">\\n                        </div>\\n                     </div>\\n\\t\\t      \\n\\t\\t     \\n\\t\\t      <div class=\"col-lg-2 col-md-3 col-sm-4 col-xs-6\">\\n                        <div class=\"company_thumbs float-shadow\">\\n\\t\\t\\t    <img data-original=\"https://grras.com/files/1mpz0zbqjikaunqs9ntl/mithi-software.jpg?s=160x100\"  class=\"lazy img-responsive\" src=\"https://grras.com/img/placeholder.png\" alt=\"Mithi Software\">\\n                        </div>\\n                     </div>\\n\\t\\t      \\n\\t\\t     \\n\\t\\t      <div class=\"col-lg-2 col-md-3 col-sm-4 col-xs-6\">\\n                        <div class=\"company_thumbs float-shadow\">\\n\\t\\t\\t    <img data-original=\"https://grras.com/files/ekzdaw6mfwshvexqeybx/octal-solutions.jpg?s=160x100\"  class=\"lazy img-responsive\" src=\"https://grras.com/img/placeholder.png\" alt=\"Octal IT Solution LLP\">\\n                        </div>\\n                     </div>\\n\\t\\t      \\n\\t\\t     \\n\\t\\t      <div class=\"col-lg-2 col-md-3 col-sm-4 col-xs-6\">\\n                        <div class=\"company_thumbs float-shadow\">\\n\\t\\t\\t    <img data-original=\"https://grras.com/files/g9e8xxlagx47731ty4cq/dotnet-square.jpg?s=160x100\"  class=\"lazy img-responsive\" src=\"https://grras.com/img/placeholder.png\" alt=\"Microsoft .Net\">\\n                        </div>\\n                     </div>\\n\\t\\t      \\n\\t\\t     \\n\\t\\t      <div class=\"col-lg-2 col-md-3 col-sm-4 col-xs-6\">\\n                        <div class=\"company_thumbs float-shadow\">\\n\\t\\t\\t    <img data-original=\"https://grras.com/files/ypft3un8479c5wkn1skf/innoplexus.jpg?s=160x100\"  class=\"lazy img-responsive\" src=\"https://grras.com/img/placeholder.png\" alt=\"Innoplcxus\">\\n                        </div>\\n                     </div>\\n\\t\\t      \\n\\t\\t     \\n\\t\\t      <div class=\"col-lg-2 col-md-3 col-sm-4 col-xs-6\">\\n                        <div class=\"company_thumbs float-shadow\">\\n\\t\\t\\t    <img data-original=\"https://grras.com/files/7c5nuxikn6s1uqizjjyz/znet-live.jpg?s=160x100\"  class=\"lazy img-responsive\" src=\"https://grras.com/img/placeholder.png\" alt=\"ZNETLIVE\">\\n                        </div>\\n                     </div>\\n\\t\\t      \\n\\t\\t     \\n\\t\\t      <div class=\"col-lg-2 col-md-3 col-sm-4 col-xs-6\">\\n                        <div class=\"company_thumbs float-shadow\">\\n\\t\\t\\t    <img data-original=\"https://grras.com/files/zszavjoqmwhz9a0pc9yz/WIPL.jpg?s=160x100\"  class=\"lazy img-responsive\" src=\"https://grras.com/img/placeholder.png\" alt=\"WIPL Jaipur\">\\n                        </div>\\n                     </div>\\n\\t\\t      \\n\\t\\t     \\n\\t\\t      <div class=\"col-lg-2 col-md-3 col-sm-4 col-xs-6\">\\n                        <div class=\"company_thumbs float-shadow\">\\n\\t\\t\\t    <img data-original=\"https://grras.com/files/dhwori1j6vzkynuozxwx/ever-data.jpg?s=160x100\"  class=\"lazy img-responsive\" src=\"https://grras.com/img/placeholder.png\" alt=\"everdata partner\">\\n                        </div>\\n                     </div>\\n\\t\\t      \\n\\t\\t    \\n                      \\n                  </div>\\n               </div>\\n            </div>\\n<!--            <center><a href=\"#\" style=\"text-decoration: none; color: black\"> See All<img src=\"img/black.png\" alt=\"aero\" width=\"20\"> </a></center>-->\\n         </div>\\n      </section>      <!-- End of Our Hiring Partners Section -->\\n      <!-- End of Our Hiring Partners Section -->\\n\\n      <!-- Our Story Section -->\\n      <section class=\"our_story myhide\" >\\n        <div class=\"our-story-heading text-center text-uppercase\">\\n            <h1>Our Success Stories</h1>\\n        </div>\\n        <div class=\"container custom-container content-left\">\\n            <div class=\"our-story-block\">\\n                <div class=\"story_content\">\\n                   <h2 class=\"text-uppercase\">What world is talking about us </h2>\\n                </div>\\n\\n\\t\\t    \\t\\t<div class=\"my_media story\" id=\"div1\" >\\n                    <h3></h3>\\n                    <div class=\"media\">\\n                      <div class=\"media-left\">\\n                        <a href=\"#\">\\n                          <img class=\" media-object\" src=\"https://grras.com/files/pg8yey3ydvxjxnx4otgb/Kunal Optimize.jpg?s=100x100\"  alt=\"Mr. Kunal Adlakha\">\\n                        </a>\\n                      </div>\\n                      <div class=\"media-body\">\\n                        <h4 class=\"media-heading\">Kunal Adlakha</h4>\\n                        <p class=\"media-subheading\"> Linux System Administrator @DataInfosys</p>\\n                      </div>\\n                    </div>\\n                    <p class=\"media-content\">I am Kunal and I am from Indore. I enrolled into the Job Oriented Program at GRRAS and it was an enthralling experience as I got to witness and learn all the updated technologies in the market which not only empowered my vision but also enhanced my skill set. Currently I am working with GIP Technologies as a Linux System Administrator and I just don\\xe2\\x80\\x99t feel like it\\xe2\\x80\\x99s my first job as GRRAS already made me familiar with the job culture environment. I would like to thank all the faculties and team members of GRRAS for bringing out the best in me. </p>\\n\\t\\t                    </div>\\n\\n\\t\\t  \\t\\t<div class=\"my_media story\" id=\"div2\" style=\"display:none;\">\\n                    <h3></h3>\\n                    <div class=\"media\">\\n                      <div class=\"media-left\">\\n                        <a href=\"#\">\\n                          <img class=\" media-object\" src=\"https://grras.com/files/4v3xgtn0v5dwhk9cm2m0/Deepak.jpeg?s=100x100\"  alt=\"Deepak Khandelwal\">\\n                        </a>\\n                      </div>\\n                      <div class=\"media-body\">\\n                        <h4 class=\"media-heading\">Deepak Khandelwal</h4>\\n                        <p class=\"media-subheading\"> Linux System Administrator @Mobzway Technology</p>\\n                      </div>\\n                    </div>\\n                    <p class=\"media-content\">Hi! My name is Deepak Khandelwal, I belongs to Agra & completed my MCA from Bundelkhand University, Jhansi. I joined GRRAS from 6 months earlier & I see the atmosphere is very good & the experience was also good. I learnt new things from GRRAS & got a new opportunity like AWS, Openstack, Cloud computing & from security purpose I learnt many things, currently I am placed in Mobzway Technology & I would like to thanks to all GRRAS team Members for better guidance & support </p>\\n\\t\\t                    </div>\\n\\n\\t\\t  \\t\\t<div class=\"my_media story\" id=\"div3\" style=\"display:none;\">\\n                    <h3></h3>\\n                    <div class=\"media\">\\n                      <div class=\"media-left\">\\n                        <a href=\"#\">\\n                          <img class=\" media-object\" src=\"https://grras.com/files/gws5ixyl7kiaim39xl26/Rohit optimize.jpg?s=100x100\"  alt=\"Mr. Rohit\">\\n                        </a>\\n                      </div>\\n                      <div class=\"media-body\">\\n                        <h4 class=\"media-heading\">Rohit Jain</h4>\\n                        <p class=\"media-subheading\"> Linux System Administrator @GIP Technologies Pvt Ltd. </p>\\n                      </div>\\n                    </div>\\n                    <p class=\"media-content\">My name is Rohit Jain & I am from Agra & I have completed my MCA from Bundelkhand University, Jhansi. I have joined GRRAS 6 months ago for job oriented program. When I completed my MCA I realized that competition is very tough in market & it was very difficult to get a good job. When I joined GRRAS, I regained confident in myself before leaving this institute, as promises that I will get a good job in my hands. Currently I am working in Data Infosys Company as a Linux System Administrator. I would like to thank everyone for making me who I am and I would like to express my gratitude all team members of GRRAS.</p>\\n\\t\\t                    </div>\\n\\n\\t\\t  \\t\\t<div class=\"my_media story\" id=\"div4\" style=\"display:none;\">\\n                    <h3></h3>\\n                    <div class=\"media\">\\n                      <div class=\"media-left\">\\n                        <a href=\"#\">\\n                          <img class=\" media-object\" src=\"https://grras.com/files/bf0qnrcss92on4d2gdyq/Aayush optimize.jpg?s=100x100\"  alt=\"Mr. Aayush Goyal\">\\n                        </a>\\n                      </div>\\n                      <div class=\"media-body\">\\n                        <h4 class=\"media-heading\">Aayush Goyal</h4>\\n                        <p class=\"media-subheading\"> Linux System Administrator</p>\\n                      </div>\\n                    </div>\\n                    <p class=\"media-content\">After studying at GRRAS for more than 2months, I certainly felt that the environment which GRRAS provides is wonderful for students. Every-one is friendly and co-operative. I have never seen such an environment anywhere else. All the trainers are ready to help students anytime. The training helped me to crack my interview at ACCENTURE as they asked me some technical questions related to LINUX which I was able to answer in a shot because of this training. I feel grateful for being a part of GRRAS FAMILY. I heartily thank GRRAS for their tremendous support.</p>\\n\\t\\t                    </div>\\n\\n\\t\\t  \\t\\t<div class=\"my_media story\" id=\"div5\" style=\"display:none;\">\\n                    <h3></h3>\\n                    <div class=\"media\">\\n                      <div class=\"media-left\">\\n                        <a href=\"#\">\\n                          <img class=\" media-object\" src=\"https://grras.com/files/basofvt9cpdbf3s3bvtu/WhatsApp Image 2019-01-01 at 10.40.27 AM.jpeg?s=100x100\"  alt=\"\">\\n                        </a>\\n                      </div>\\n                      <div class=\"media-body\">\\n                        <h4 class=\"media-heading\">Ritu Jani</h4>\\n                        <p class=\"media-subheading\"> PHP Developer @BrainVire Infotech Pvt Ltd</p>\\n                      </div>\\n                    </div>\\n                    <p class=\"media-content\">I have taken training from Grras Solution Pvt Ltd.,  \\r\\nAhemedabad for PHP.  \\r\\nI am so much thankful to Grras Institute and all its faculty members \\r\\nfor giving me kind and humble response at any stage of training. \\r\\nI am so lucky that I got training in Grras Solutions \\r\\nand I got my desired job in MNC company named as BrainVire Infotech Pvt Ltd, \\r\\nAhemedabad.  \\r\\nI would like to give a very special thanks to Naresh Sir \\r\\nfor  guiding me in details for every topics in \\r\\nthe best way and studying me till I got clear understanding related to any topic. \\r\\nI strongly believe that if you want something and \\r\\nif you will try hard with proper guidance then nothing can stop you to achieve your goals in life. \\r\\nOnce again thank you so much Grras Solution, its team and Naresh Sir \\xe2\\x98\\xba\\xe2\\x98\\xba </p>\\n\\t\\t                    </div>\\n\\n\\t\\t  \\n                <!-- Swiper -->\\n                <div class=\"swiper-container our-story-gallery\">\\n                  <div class=\"swiper-wrapper\">\\n\\t\\t      \\t\\t      <div class=\"swiper-slide\" style=\"width:198px\">\\n\\t\\t\\t    <a href=\"javascript:void(0);\" class=\"our-story-gallery-img\" onclick=\"$(\\'.story\\').hide();$(\\'#div1\\').show();\"><img data-original=\"https://grras.com/files/pg8yey3ydvxjxnx4otgb/Kunal Optimize.jpg?s=178x178\" src=\"https://grras.com/img/placeholder.png\" class=\"lazy img-responsive\" alt=\"Mr. Kunal Adlakha\"/></a>\\n                    </div>\\n\\t\\t       \\t\\t      <div class=\"swiper-slide\" style=\"width:198px\">\\n\\t\\t\\t    <a href=\"javascript:void(0);\" class=\"our-story-gallery-img\" onclick=\"$(\\'.story\\').hide();$(\\'#div2\\').show();\"><img data-original=\"https://grras.com/files/4v3xgtn0v5dwhk9cm2m0/Deepak.jpeg?s=178x178\" src=\"https://grras.com/img/placeholder.png\" class=\"lazy img-responsive\" alt=\"Deepak Khandelwal\"/></a>\\n                    </div>\\n\\t\\t       \\t\\t      <div class=\"swiper-slide\" style=\"width:198px\">\\n\\t\\t\\t    <a href=\"javascript:void(0);\" class=\"our-story-gallery-img\" onclick=\"$(\\'.story\\').hide();$(\\'#div3\\').show();\"><img data-original=\"https://grras.com/files/gws5ixyl7kiaim39xl26/Rohit optimize.jpg?s=178x178\" src=\"https://grras.com/img/placeholder.png\" class=\"lazy img-responsive\" alt=\"Mr. Rohit\"/></a>\\n                    </div>\\n\\t\\t       \\t\\t      <div class=\"swiper-slide\" style=\"width:198px\">\\n\\t\\t\\t    <a href=\"javascript:void(0);\" class=\"our-story-gallery-img\" onclick=\"$(\\'.story\\').hide();$(\\'#div4\\').show();\"><img data-original=\"https://grras.com/files/bf0qnrcss92on4d2gdyq/Aayush optimize.jpg?s=178x178\" src=\"https://grras.com/img/placeholder.png\" class=\"lazy img-responsive\" alt=\"Mr. Aayush Goyal\"/></a>\\n                    </div>\\n\\t\\t       \\t\\t      <div class=\"swiper-slide\" style=\"width:198px\">\\n\\t\\t\\t    <a href=\"javascript:void(0);\" class=\"our-story-gallery-img\" onclick=\"$(\\'.story\\').hide();$(\\'#div5\\').show();\"><img data-original=\"https://grras.com/files/basofvt9cpdbf3s3bvtu/WhatsApp Image 2019-01-01 at 10.40.27 AM.jpeg?s=178x178\" src=\"https://grras.com/img/placeholder.png\" class=\"lazy img-responsive\" alt=\"\"/></a>\\n                    </div>\\n\\t\\t                         </div>\\n                  <!-- Add Pagination -->\\n                  <div class=\"swiper-pagination\"></div>\\n                </div>\\n                <!-- Swiper End -->\\n            </div>\\n         </div>\\n      </section>\\n      <!-- End of Our Story Section -->\\n<!-- Top Footer -->\\n     <section class=\"build_career myhide\">\\n      <div class=\"container custom-container\">\\n        <div class=\"build_career_block\">\\n          <div class=\"build_career_title\">\\n            <h1 class=\"text-uppercase build_career_heading\">\\n             We are ready to<br> build your career  <br><span>Are You ?</span>            </h1>\\n          </div>\\n          <div class=\"build_career_button\">\\n\\t      <a href=\"http://www.grras.com/page/Contact-US#enquiry-form\"> <button type=\"button\" class=\"btn\">Get Started</button></a>\\n          </div>\\n        </div>\\n      </div>\\n    </section>\\n    <!-- End of Top Footer -->\\n      <!-- Footer -->\\n      <footer class=\"myhide\">\\n         <div class=\"container custom-container\">\\n            <div class=\"row footer-links\">\\n\\t\\t\\n\\t\\t   <div class=\"col-md-2 col-sm-6\">\\n                  <h1 class=\"footer-link-heading\">Navigate</h1>\\n                  <ul class=\"footer_item social_links list-inline\">\\n\\t\\t      \\n\\t\\t\\t    \\t\\t\\t    <li style=\"width:100%\">\\n\\t\\t\\t\\t<a href=\"http://www.grras.com/page/GRRAS-Solutions-Pvt-Ltd\">\\n\\t\\t\\t\\t   About US\\t\\t\\t\\t    </a>\\n\\t\\t\\t    </li>\\n\\t\\t\\t\\t   \\n\\t\\t     \\n\\t\\t\\t    \\t\\t\\t    <li style=\"width:100%\">\\n\\t\\t\\t\\t<a href=\"https://grras.com/page/gallery\">\\n\\t\\t\\t\\t   Gallery\\t\\t\\t\\t    </a>\\n\\t\\t\\t    </li>\\n\\t\\t\\t\\t   \\n\\t\\t     \\n\\t\\t\\t    \\t\\t\\t    <li style=\"width:100%\">\\n\\t\\t\\t\\t<a href=\"http://www.grras.com/page/GRRAS-Solutions-Pvt-Ltd#get_franchisee\">\\n\\t\\t\\t\\t   Partner With US\\t\\t\\t\\t    </a>\\n\\t\\t\\t    </li>\\n\\t\\t\\t\\t   \\n\\t\\t     \\n\\t\\t\\t    \\t\\t\\t    <li style=\"width:100%\">\\n\\t\\t\\t\\t<a href=\"https://grras.com/page/ratings-reviews\">\\n\\t\\t\\t\\t   Rating & Reviews \\t\\t\\t\\t    </a>\\n\\t\\t\\t    </li>\\n\\t\\t\\t\\t   \\n\\t\\t     \\n\\t\\t\\t    \\t\\t\\t    <li style=\"width:100%\">\\n\\t\\t\\t\\t<a href=\"http://www.grras.com/page/ratings-reviews#faqs\">\\n\\t\\t\\t\\t   FAQs\\t\\t\\t\\t    </a>\\n\\t\\t\\t    </li>\\n\\t\\t\\t\\t   \\n\\t\\t     \\n\\t\\t\\t    \\t\\t\\t    <li style=\"width:100%\">\\n\\t\\t\\t\\t<a href=\"http://www.grras.com/page/gallery#the-masters\">\\n\\t\\t\\t\\t   Our Team\\t\\t\\t\\t    </a>\\n\\t\\t\\t    </li>\\n\\t\\t\\t\\t   \\n\\t\\t     \\n\\t\\t\\t    \\t\\t\\t    <li style=\"width:100%\">\\n\\t\\t\\t\\t<a href=\"http://www.grras.com/page/contact-us#training-centers\">\\n\\t\\t\\t\\t   Contact US\\t\\t\\t\\t    </a>\\n\\t\\t\\t    </li>\\n\\t\\t\\t\\t   \\n\\t\\t     \\n\\t\\t\\t    \\t\\t\\t    <li style=\"width:100%\">\\n\\t\\t\\t\\t<a href=\"http://www.grras.com/page/contact-us#enquiry-form\">\\n\\t\\t\\t\\t   Enquiry Form\\t\\t\\t\\t    </a>\\n\\t\\t\\t    </li>\\n\\t\\t\\t\\t   \\n\\t\\t     \\n\\t\\t\\t    \\t\\t\\t    <li style=\"width:100%\">\\n\\t\\t\\t\\t<a href=\"https://grras.com/blog\">\\n\\t\\t\\t\\t   Blog\\t\\t\\t\\t    </a>\\n\\t\\t\\t    </li>\\n\\t\\t\\t\\t   \\n\\t\\t                       </ul>\\n               </div>\\n\\t\\t  \\n\\t\\t   <div class=\"col-md-2 col-sm-6\">\\n                  <h1 class=\"footer-link-heading\">Locations</h1>\\n                  <ul class=\"footer_item social_links list-inline\">\\n\\t\\t      \\n\\t\\t\\t    \\t\\t\\t    <li style=\"width:100%\">\\n\\t\\t\\t\\t<a href=\"http://www.grras.com/page/contact-us#jaipur\">\\n\\t\\t\\t\\t   Jaipur\\t\\t\\t\\t    </a>\\n\\t\\t\\t    </li>\\n\\t\\t\\t\\t   \\n\\t\\t     \\n\\t\\t\\t    \\t\\t\\t    <li style=\"width:100%\">\\n\\t\\t\\t\\t<a href=\"http://www.grras.com/page/contact-us#training-centers\">\\n\\t\\t\\t\\t   Ahmedabad\\t\\t\\t\\t    </a>\\n\\t\\t\\t    </li>\\n\\t\\t\\t\\t   \\n\\t\\t     \\n\\t\\t\\t    \\t\\t\\t    <li style=\"width:100%\">\\n\\t\\t\\t\\t<a href=\"http://www.grras.com/page/contact-us#training-centers\">\\n\\t\\t\\t\\t   Indore\\t\\t\\t\\t    </a>\\n\\t\\t\\t    </li>\\n\\t\\t\\t\\t   \\n\\t\\t     \\n\\t\\t\\t    \\t\\t\\t    <li style=\"width:100%\">\\n\\t\\t\\t\\t<a href=\"http://www.grras.com/page/contact-us#training-centers\">\\n\\t\\t\\t\\t   Nagpur\\t\\t\\t\\t    </a>\\n\\t\\t\\t    </li>\\n\\t\\t\\t\\t   \\n\\t\\t     \\n\\t\\t\\t    \\t\\t\\t    <li style=\"width:100%\">\\n\\t\\t\\t\\t<a href=\"http://www.grras.com/page/contact-us#training-centers\">\\n\\t\\t\\t\\t   Pune\\t\\t\\t\\t    </a>\\n\\t\\t\\t    </li>\\n\\t\\t\\t\\t   \\n\\t\\t     \\n\\t\\t\\t    \\t\\t\\t    <li style=\"width:100%\">\\n\\t\\t\\t\\t<a href=\"http://www.grras.com/page/contact-us#training-centers\">\\n\\t\\t\\t\\t   Nasik\\t\\t\\t\\t    </a>\\n\\t\\t\\t    </li>\\n\\t\\t\\t\\t   \\n\\t\\t     \\n\\t\\t\\t    \\t\\t\\t    <li style=\"width:100%\">\\n\\t\\t\\t\\t<a href=\"http://www.grras.com/page/contact-us#training-centers\">\\n\\t\\t\\t\\t   Gurgaon\\t\\t\\t\\t    </a>\\n\\t\\t\\t    </li>\\n\\t\\t\\t\\t   \\n\\t\\t     \\n\\t\\t\\t    \\t\\t\\t    <li style=\"width:100%\">\\n\\t\\t\\t\\t<a href=\"http://www.grras.com/page/contact-us#training-centers\">\\n\\t\\t\\t\\t   HimmatNagar (Gujarat) \\t\\t\\t\\t    </a>\\n\\t\\t\\t    </li>\\n\\t\\t\\t\\t   \\n\\t\\t                       </ul>\\n               </div>\\n\\t\\t  \\n\\t\\t   <div class=\"col-md-4 col-sm-6\">\\n                  <h1 class=\"footer-link-heading\">International Certifications</h1>\\n                  <ul class=\"footer_item social_links list-inline\">\\n\\t\\t      \\n\\t\\t\\t    \\t\\t\\t    <li style=\"width:100%\">\\n\\t\\t\\t\\t<a href=\"https://grras.com/course/redhat-linux-rhce-certifications-training-in-jaipur-ahmedabad-indore\">\\n\\t\\t\\t\\t   RHCSA\\t\\t\\t\\t    </a>\\n\\t\\t\\t    </li>\\n\\t\\t\\t\\t   \\n\\t\\t     \\n\\t\\t\\t    \\t\\t\\t    <li style=\"width:100%\">\\n\\t\\t\\t\\t<a href=\"https://grras.com/course/redhat-linux-rhce-certifications-training-in-jaipur-ahmedabad-indore\">\\n\\t\\t\\t\\t   RHCE\\t\\t\\t\\t    </a>\\n\\t\\t\\t    </li>\\n\\t\\t\\t\\t   \\n\\t\\t     \\n\\t\\t\\t    \\t\\t\\t    <li style=\"width:100%\">\\n\\t\\t\\t\\t<a href=\"https://grras.com/course/networking-cisco-ccna-certifications-training-in-jaipur-ahmedabad\">\\n\\t\\t\\t\\t   CCNA\\t\\t\\t\\t    </a>\\n\\t\\t\\t    </li>\\n\\t\\t\\t\\t   \\n\\t\\t     \\n\\t\\t\\t    \\t\\t\\t    <li style=\"width:100%\">\\n\\t\\t\\t\\t<a href=\"https://grras.com/course/aws-certifications-training-in-jaipur-ahmedabad-indore\">\\n\\t\\t\\t\\t   AWS-CSA\\t\\t\\t\\t    </a>\\n\\t\\t\\t    </li>\\n\\t\\t\\t\\t   \\n\\t\\t     \\n\\t\\t\\t    \\t\\t\\t    <li style=\"width:100%\">\\n\\t\\t\\t\\t<a href=\"https://grras.com/course/python-programming-training-in-indore-jaipur-ahmedabad\">\\n\\t\\t\\t\\t   PYTHON\\t\\t\\t\\t    </a>\\n\\t\\t\\t    </li>\\n\\t\\t\\t\\t   \\n\\t\\t     \\n\\t\\t\\t    \\t\\t\\t    <li style=\"width:100%\">\\n\\t\\t\\t\\t<a href=\"https://grras.com/course/big-data-hadoop-training-in-jaipur-ahmedabad\">\\n\\t\\t\\t\\t   HADOOP\\t\\t\\t\\t    </a>\\n\\t\\t\\t    </li>\\n\\t\\t\\t\\t   \\n\\t\\t                       </ul>\\n               </div>\\n\\t\\t  \\n\\t\\t   <div class=\"col-md-4 col-sm-6\">\\n                  <h1 class=\"footer-link-heading\">Follow Us</h1>\\n                  <ul class=\"footer_item social_links list-inline\">\\n\\t\\t      \\n\\t\\t\\t    \\t\\t\\t\\t  <li>\\n\\t\\t\\t\\t<a href=\"https://www.facebook.com/grrassolutionspvtltd/?ref=bookmarks\">   <i class=\" fa  fa fa-facebook\"> </i>\\n\\t\\t\\t\\t    </a>\\n\\t\\t\\t    </li>\\n\\t\\t\\t\\t    \\n\\t\\t     \\n\\t\\t\\t    \\t\\t\\t\\t  <li>\\n\\t\\t\\t\\t<a href=\"https://twitter.com/redhatgrras\">   <i class=\" fa fab fa-twitter\"> </i>\\n\\t\\t\\t\\t    </a>\\n\\t\\t\\t    </li>\\n\\t\\t\\t\\t    \\n\\t\\t     \\n\\t\\t\\t    \\t\\t\\t\\t  <li>\\n\\t\\t\\t\\t<a href=\"https://www.linkedin.com/in/grras-solutions-pvt-ltd-2b445873/\">   <i class=\" fa fab fa-linkedin\"> </i>\\n\\t\\t\\t\\t    </a>\\n\\t\\t\\t    </li>\\n\\t\\t\\t\\t    \\n\\t\\t     \\n\\t\\t\\t    \\t\\t\\t\\t  <li>\\n\\t\\t\\t\\t<a href=\"https://plus.google.com/u/0/111698056898384918541\">   <i class=\" fa fa fa-google-plus-square\"> </i>\\n\\t\\t\\t\\t    </a>\\n\\t\\t\\t    </li>\\n\\t\\t\\t\\t    \\n\\t\\t                       </ul>\\n               </div>\\n\\t\\t  \\n\\n\\n            </div>\\n         </div>\\n      </footer>\\n      <!-- End of Footer -->\\n\\n      <!-- Copyright Section -->\\n      <section class=\"copyright myhide\">\\n         <div class=\"container custom-container\">\\n            <div class=\"copyright-block\">\\n                <div class=\"left_copyright\">\\n                   <p>Copyright \\xc2\\xa9 2019 GRRAS Solutions Pvt. Ltd. </p>\\n                </div>\\n                <div class=\"footer-logo\">\\n                    <img  src=\"https://grras.com/files/dakconwrechyzezn0f6b/logo_main.png?s=60x51\" alt=\"Grras Solutions Pvt. Ltd.\">\\n                </div>\\n              \\n            </div>\\n         </div>\\n      </section>\\n      <!-- End of Copyright Section -->\\n\\n    <!-- Modernizer -->\\n\\n      <!-- Scripts -->\\n      <script src=\"https://grras.com/js/vendor/modernizr-3.5.0.min.js\"></script>\\n      <!-- jQuery first, then Popper.js, then Bootstrap JS -->\\n      <script src=\"https://grras.com/js/vendor/jquery-3.2.1.min.js\"> </script>\\n       <script>window.jQuery || document.write(\\'<script src=\"https://grras.com/js/vendor/jquery-3.2.1.min.js\"><\\\\/script>\\')</script>\\n      <script src=\"https://grras.com/js/vendor/bootstrap.min.js\"></script>\\n      <!-- <script src=\"https://grras.com/js/vendor/owl.carousel.min.js/1\"></script> -->\\n      <script src=\"//cdnjs.cloudflare.com/ajax/libs/OwlCarousel2/2.3.4/owl.carousel.min.js\"></script>\\n\\n       \\n      <script src=\"https://grras.com/js/vendor/aos.js\"></script>\\n      <script src=\"https://grras.com/js/vendor/swiper.min.js\"></script>\\n      <script src=\"https://grras.com/js/plugins.js\"></script>\\n      <script src=\"https://grras.com/js/main.js\"></script> \\n      <script src=\"https://grras.com/js/vendor/wow.min.js\"></script>\\n      <script src=\"https://grras.com/js/jquery.lazyload.js\"></script>\\n      \\n      \\n      <script>\\n        new WOW().init();\\n        /*$(\\'.carousel\\').carousel({\\n          interval: 100000\\n        })*/\\n      </script>\\n\\n          \\n\\n       <script>\\n\\n      $(document).ready(function(){\\n\\t  $(\"img.lazy\").lazyload();\\n        $(\".filter-button\").click(function(){\\n          var value = $(this).attr(\\'data-filter\\');\\n          if(value == \"all\") {\\n            $(\\'.filter\\').fadeIn(\\'1000\\');\\n          }\\n          else {\\n            $(\".filter\").not(\\'.\\'+value).fadeOut(\\'2500\\');\\n            $(\\'.filter\\').filter(\\'.\\'+value).fadeIn(\\'3000\\');\\n          }\\n        });\\n\\t//\\t     $( document ).scroll(function() {\\n//\\t    $( \".myhide\" ).css(\\'display\\',\\'block\\');\\n//\\t  });  \\n      });\\t\\n  \\nfunction playPause(id) {\\n    var myVideo = document.getElementById(\\'video\\'+id);\\n    if (myVideo.paused) {\\n\\tmyVideo.play();\\n\\t$(\\'#playpausbtn\\'+id+\\' i\\').removeClass(\\'fa-play\\').addClass(\\'fa-pause\\');\\n    }\\n    else {\\n\\tmyVideo.pause();\\n\\t$(\\'#playpausbtn\\'+id+\\' i\\').removeClass(\\'fa-pause\\').addClass(\\'fa-play\\');\\n    }\\n}\\nfunction showbanner(){\\n    jQuery(\".home-header\").removeClass(\"hide\");\\n}\\n\\n\\n</script><!--Start of Tawk.to Script-->\\n<script type=\"text/javascript\">\\nvar Tawk_API=Tawk_API||{}, Tawk_LoadStart=new Date();\\n(function(){\\nvar s1=document.createElement(\"script\"),s0=document.getElementsByTagName(\"script\")[0];\\ns1.async=true;\\ns1.src=\\'https://embed.tawk.to/5b521881e21878736ba22a77/default\\';\\ns1.charset=\\'UTF-8\\';\\ns1.setAttribute(\\'crossorigin\\',\\'*\\');\\ns0.parentNode.insertBefore(s1,s0);\\n})();\\n</script>\\n<!--End of Tawk.to Script-->\\n   </body>\\n</html>\\n'"
      ]
     },
     "execution_count": 73,
     "metadata": {},
     "output_type": "execute_result"
    }
   ],
   "source": [
    "page.content"
   ]
  },
  {
   "cell_type": "code",
   "execution_count": null,
   "metadata": {},
   "outputs": [],
   "source": []
  }
 ],
 "metadata": {
  "kernelspec": {
   "display_name": "Python 3",
   "language": "python",
   "name": "python3"
  },
  "language_info": {
   "codemirror_mode": {
    "name": "ipython",
    "version": 3
   },
   "file_extension": ".py",
   "mimetype": "text/x-python",
   "name": "python",
   "nbconvert_exporter": "python",
   "pygments_lexer": "ipython3",
   "version": "3.6.5"
  }
 },
 "nbformat": 4,
 "nbformat_minor": 2
}
