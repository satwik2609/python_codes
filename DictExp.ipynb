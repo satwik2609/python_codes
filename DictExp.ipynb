{
 "cells": [
  {
   "cell_type": "code",
   "execution_count": 9,
   "metadata": {},
   "outputs": [
    {
     "name": "stdout",
     "output_type": "stream",
     "text": [
      "Enter number of keys: 2\n",
      "Enter keys and value separated by ',': name, satwik \n",
      "Enter keys and value separated by ',': age,23\n",
      "{'name': ' satwik ', 'age': '23'}\n"
     ]
    }
   ],
   "source": [
    "d ={} \n",
    "n = int(input(\"Enter number of keys: \"))                            \n",
    "for i in range(n):        \n",
    "    elements = input(\"Enter keys and value separated by ',': \").split(',')    \n",
    "    d[elements[0]] = elements[1]      \n",
    "print(d)"
   ]
  },
  {
   "cell_type": "code",
   "execution_count": null,
   "metadata": {},
   "outputs": [],
   "source": []
  }
 ],
 "metadata": {
  "kernelspec": {
   "display_name": "Python 3",
   "language": "python",
   "name": "python3"
  },
  "language_info": {
   "codemirror_mode": {
    "name": "ipython",
    "version": 3
   },
   "file_extension": ".py",
   "mimetype": "text/x-python",
   "name": "python",
   "nbconvert_exporter": "python",
   "pygments_lexer": "ipython3",
   "version": "3.6.5"
  }
 },
 "nbformat": 4,
 "nbformat_minor": 2
}
