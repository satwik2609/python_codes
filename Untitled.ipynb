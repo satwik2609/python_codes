{
 "cells": [
  {
   "cell_type": "code",
   "execution_count": 1,
   "metadata": {},
   "outputs": [
    {
     "name": "stdout",
     "output_type": "stream",
     "text": [
      "Enter roll no: 102\n",
      "kushal 35\n"
     ]
    }
   ],
   "source": [
    "roll_no=(101,102,103)\n",
    "name=['manish','kushal','sachin']\n",
    "marks=[30,35,40]\n",
    "n=int(input(\"Enter roll no: \"))\n",
    "ind=roll_no.index(n)\n",
    "print(name[ind],marks[ind])"
   ]
  },
  {
   "cell_type": "code",
   "execution_count": null,
   "metadata": {},
   "outputs": [],
   "source": []
  },
  {
   "cell_type": "code",
   "execution_count": 2,
   "metadata": {},
   "outputs": [],
   "source": [
    "a=1,2"
   ]
  },
  {
   "cell_type": "code",
   "execution_count": 3,
   "metadata": {},
   "outputs": [
    {
     "data": {
      "text/plain": [
       "(1, 2)"
      ]
     },
     "execution_count": 3,
     "metadata": {},
     "output_type": "execute_result"
    }
   ],
   "source": [
    "a"
   ]
  },
  {
   "cell_type": "code",
   "execution_count": 4,
   "metadata": {},
   "outputs": [
    {
     "ename": "ValueError",
     "evalue": "too many values to unpack (expected 2)",
     "output_type": "error",
     "traceback": [
      "\u001b[1;31m---------------------------------------------------------------------------\u001b[0m",
      "\u001b[1;31mValueError\u001b[0m                                Traceback (most recent call last)",
      "\u001b[1;32m<ipython-input-4-e75b20b1e6a1>\u001b[0m in \u001b[0;36m<module>\u001b[1;34m()\u001b[0m\n\u001b[1;32m----> 1\u001b[1;33m \u001b[0ma\u001b[0m\u001b[1;33m,\u001b[0m\u001b[0mb\u001b[0m\u001b[1;33m=\u001b[0m\u001b[1;36m1\u001b[0m\u001b[1;33m,\u001b[0m\u001b[1;36m2\u001b[0m\u001b[1;33m,\u001b[0m\u001b[1;36m3\u001b[0m\u001b[1;33m,\u001b[0m\u001b[1;36m4\u001b[0m\u001b[1;33m\u001b[0m\u001b[0m\n\u001b[0m",
      "\u001b[1;31mValueError\u001b[0m: too many values to unpack (expected 2)"
     ]
    }
   ],
   "source": [
    "a,b=1,2,3,4"
   ]
  },
  {
   "cell_type": "code",
   "execution_count": 6,
   "metadata": {},
   "outputs": [
    {
     "name": "stdout",
     "output_type": "stream",
     "text": [
      "[1, 2, 3, 4]\n"
     ]
    }
   ],
   "source": [
    "l=[1,2,3,4]\n",
    "print(l)"
   ]
  },
  {
   "cell_type": "code",
   "execution_count": 7,
   "metadata": {},
   "outputs": [
    {
     "name": "stdout",
     "output_type": "stream",
     "text": [
      "1 2 3 4\n"
     ]
    }
   ],
   "source": [
    "print(*l)"
   ]
  },
  {
   "cell_type": "code",
   "execution_count": 8,
   "metadata": {},
   "outputs": [],
   "source": [
    "s='hello world'"
   ]
  },
  {
   "cell_type": "code",
   "execution_count": 9,
   "metadata": {},
   "outputs": [
    {
     "name": "stdout",
     "output_type": "stream",
     "text": [
      "h e l l o   w o r l d\n"
     ]
    }
   ],
   "source": [
    "print(*s)"
   ]
  },
  {
   "cell_type": "code",
   "execution_count": 10,
   "metadata": {},
   "outputs": [
    {
     "name": "stdout",
     "output_type": "stream",
     "text": [
      "hello world\n"
     ]
    }
   ],
   "source": [
    "print(s)"
   ]
  },
  {
   "cell_type": "code",
   "execution_count": 11,
   "metadata": {},
   "outputs": [
    {
     "data": {
      "text/plain": [
       "['__add__',\n",
       " '__class__',\n",
       " '__contains__',\n",
       " '__delattr__',\n",
       " '__dir__',\n",
       " '__doc__',\n",
       " '__eq__',\n",
       " '__format__',\n",
       " '__ge__',\n",
       " '__getattribute__',\n",
       " '__getitem__',\n",
       " '__getnewargs__',\n",
       " '__gt__',\n",
       " '__hash__',\n",
       " '__init__',\n",
       " '__init_subclass__',\n",
       " '__iter__',\n",
       " '__le__',\n",
       " '__len__',\n",
       " '__lt__',\n",
       " '__mul__',\n",
       " '__ne__',\n",
       " '__new__',\n",
       " '__reduce__',\n",
       " '__reduce_ex__',\n",
       " '__repr__',\n",
       " '__rmul__',\n",
       " '__setattr__',\n",
       " '__sizeof__',\n",
       " '__str__',\n",
       " '__subclasshook__',\n",
       " 'count',\n",
       " 'index']"
      ]
     },
     "execution_count": 11,
     "metadata": {},
     "output_type": "execute_result"
    }
   ],
   "source": [
    "dir(tuple)"
   ]
  },
  {
   "cell_type": "code",
   "execution_count": 1,
   "metadata": {},
   "outputs": [
    {
     "name": "stdout",
     "output_type": "stream",
     "text": [
      "value of a=40 \n",
      " value of b=20\n"
     ]
    }
   ],
   "source": [
    "a=20\n",
    "b=40\n",
    "print(\"value of a={1} \\n value of b={0}\".format(a,b))\n"
   ]
  },
  {
   "cell_type": "markdown",
   "metadata": {},
   "source": []
  },
  {
   "cell_type": "code",
   "execution_count": 17,
   "metadata": {},
   "outputs": [
    {
     "name": "stdout",
     "output_type": "stream",
     "text": [
      "Enter number: 3\n",
      "Weird\n"
     ]
    }
   ],
   "source": [
    "N = int(input(\"Enter number: \"))\n",
    "if N%2:\n",
    "    flag=\"Weird\"\n",
    "else:\n",
    "    if N>=2 and N<=5:\n",
    "        flag=\"Not Weird\"\n",
    "    else:\n",
    "        if N>=6 and N<=20:\n",
    "            flag=\"Weird\"\n",
    "        else:\n",
    "            flag=\"Not Weird\"\n",
    "print(f\"{flag}\")\n",
    "    "
   ]
  },
  {
   "cell_type": "code",
   "execution_count": 6,
   "metadata": {},
   "outputs": [
    {
     "name": "stdout",
     "output_type": "stream",
     "text": [
      "Enter price of the item: 2337\n",
      "Amount deposited: 2337\n",
      "Thank you for shopping with us.\n"
     ]
    }
   ],
   "source": [
    "#i = itm_amt\n",
    "#a = amt_dpt\n",
    "#r = rmn_amt\n",
    "i = int(input(\"Enter price of the item: \"))\n",
    "a = int(input(\"Amount deposited: \"))\n",
    "r = a - i\n",
    "if i == a:\n",
    "    print(\"Thank you for shopping with us.\")\n",
    "else: \n",
    "    print(\"2000: \", r // 2000)\n",
    "    print(\"500: \", (r % 2000) // 500)\n",
    "    print(\"100: \", ((r % 2000) % 500) // 100)\n",
    "    print(\"50: \", (((r % 2000) % 500) % 100) // 50)\n",
    "    print(\"20: \", ((((r % 2000) % 500) % 100) % 50) // 20)\n",
    "    print(\"10: \", (((((r % 2000) % 500) % 100) % 50) % 20) // 10)\n",
    "    print(\"5: \", ((((((r % 2000) % 500) % 100) % 50) % 20) % 10) // 5)\n",
    "    print(\"2: \", (((((((r % 2000) % 500) % 100) % 50) % 20) % 10) % 5) // 2)\n",
    "    print(\"1: \", ((((((((r % 2000) % 500) % 100) % 50) % 20) % 10) % 5) % 2) // 1)"
   ]
  },
  {
   "cell_type": "code",
   "execution_count": 1,
   "metadata": {},
   "outputs": [
    {
     "name": "stdout",
     "output_type": "stream",
     "text": [
      "0\n",
      "1\n",
      "2\n",
      "3\n",
      "4\n",
      "5\n",
      "6\n",
      "7\n",
      "8\n",
      "9\n",
      "10\n",
      "11\n",
      "12\n",
      "13\n",
      "14\n",
      "15\n",
      "16\n",
      "17\n",
      "18\n",
      "19\n",
      "20\n",
      "21\n",
      "22\n",
      "23\n",
      "24\n",
      "25\n",
      "26\n",
      "27\n",
      "28\n",
      "29\n",
      "30\n",
      "31\n",
      "32\n",
      "33\n",
      "34\n",
      "35\n",
      "36\n",
      "37\n",
      "38\n",
      "39\n",
      "40\n",
      "41\n",
      "42\n",
      "43\n",
      "44\n",
      "45\n",
      "46\n",
      "47\n",
      "48\n",
      "49\n",
      "50\n",
      "51\n",
      "52\n",
      "53\n",
      "54\n",
      "55\n",
      "56\n",
      "57\n",
      "58\n",
      "59\n",
      "60\n",
      "61\n",
      "62\n",
      "63\n",
      "64\n",
      "65\n",
      "66\n",
      "67\n",
      "68\n",
      "69\n",
      "70\n",
      "71\n",
      "72\n",
      "73\n",
      "74\n",
      "75\n",
      "76\n",
      "77\n",
      "78\n",
      "79\n",
      "80\n",
      "81\n",
      "82\n",
      "83\n",
      "84\n",
      "85\n",
      "86\n",
      "87\n",
      "88\n",
      "89\n",
      "90\n",
      "91\n",
      "92\n",
      "93\n",
      "94\n",
      "95\n",
      "96\n",
      "97\n",
      "98\n",
      "99\n"
     ]
    }
   ],
   "source": [
    "count = 0\n",
    "while count<100:\n",
    "    print(count)\n",
    "    count += 1"
   ]
  },
  {
   "cell_type": "code",
   "execution_count": 10,
   "metadata": {},
   "outputs": [],
   "source": [
    "def fact(n):\n",
    "    if n<2:\n",
    "        return 1\n",
    "    else:\n",
    "        return n*fact(n-1)"
   ]
  },
  {
   "cell_type": "code",
   "execution_count": 11,
   "metadata": {},
   "outputs": [],
   "source": [
    "x = fact(10)"
   ]
  },
  {
   "cell_type": "code",
   "execution_count": 12,
   "metadata": {},
   "outputs": [
    {
     "name": "stdout",
     "output_type": "stream",
     "text": [
      "3628800\n"
     ]
    }
   ],
   "source": [
    "print(x)"
   ]
  },
  {
   "cell_type": "code",
   "execution_count": 13,
   "metadata": {},
   "outputs": [
    {
     "data": {
      "text/plain": [
       "120"
      ]
     },
     "execution_count": 13,
     "metadata": {},
     "output_type": "execute_result"
    }
   ],
   "source": [
    "fact(5)"
   ]
  },
  {
   "cell_type": "code",
   "execution_count": 15,
   "metadata": {},
   "outputs": [],
   "source": [
    "def recursive_fact(n):\n",
    "    if n<0:\n",
    "        return -1\n",
    "    elif n<2 :\n",
    "        return 1\n",
    "    else:\n",
    "        return n*recursive_fact(n-1)"
   ]
  },
  {
   "cell_type": "code",
   "execution_count": 19,
   "metadata": {},
   "outputs": [],
   "source": [
    "x = recursive_fact(5)"
   ]
  },
  {
   "cell_type": "code",
   "execution_count": 20,
   "metadata": {},
   "outputs": [
    {
     "data": {
      "text/plain": [
       "120"
      ]
     },
     "execution_count": 20,
     "metadata": {},
     "output_type": "execute_result"
    }
   ],
   "source": [
    "x"
   ]
  },
  {
   "cell_type": "code",
   "execution_count": 18,
   "metadata": {},
   "outputs": [],
   "source": [
    "def iterative_fact(n):\n",
    "    if n<0:\n",
    "        return -1\n",
    "    else:\n",
    "        fact = 1\n",
    "        for i in range(1,n+1):\n",
    "            fact *= i\n",
    "        return fact"
   ]
  },
  {
   "cell_type": "code",
   "execution_count": 21,
   "metadata": {},
   "outputs": [],
   "source": [
    "y = iterative_fact(5)"
   ]
  },
  {
   "cell_type": "code",
   "execution_count": 22,
   "metadata": {},
   "outputs": [
    {
     "data": {
      "text/plain": [
       "120"
      ]
     },
     "execution_count": 22,
     "metadata": {},
     "output_type": "execute_result"
    }
   ],
   "source": [
    "y"
   ]
  },
  {
   "cell_type": "code",
   "execution_count": 23,
   "metadata": {},
   "outputs": [
    {
     "name": "stdout",
     "output_type": "stream",
     "text": [
      "120\n"
     ]
    }
   ],
   "source": [
    "print(y)"
   ]
  },
  {
   "cell_type": "code",
   "execution_count": 24,
   "metadata": {},
   "outputs": [
    {
     "ename": "SyntaxError",
     "evalue": "invalid syntax (<ipython-input-24-beab77295ec9>, line 1)",
     "output_type": "error",
     "traceback": [
      "\u001b[1;36m  File \u001b[1;32m\"<ipython-input-24-beab77295ec9>\"\u001b[1;36m, line \u001b[1;32m1\u001b[0m\n\u001b[1;33m    dir(dict)?\u001b[0m\n\u001b[1;37m             ^\u001b[0m\n\u001b[1;31mSyntaxError\u001b[0m\u001b[1;31m:\u001b[0m invalid syntax\n"
     ]
    }
   ],
   "source": [
    "dir(dict)?"
   ]
  },
  {
   "cell_type": "code",
   "execution_count": 25,
   "metadata": {},
   "outputs": [
    {
     "data": {
      "text/plain": [
       "['__class__',\n",
       " '__contains__',\n",
       " '__delattr__',\n",
       " '__delitem__',\n",
       " '__dir__',\n",
       " '__doc__',\n",
       " '__eq__',\n",
       " '__format__',\n",
       " '__ge__',\n",
       " '__getattribute__',\n",
       " '__getitem__',\n",
       " '__gt__',\n",
       " '__hash__',\n",
       " '__init__',\n",
       " '__init_subclass__',\n",
       " '__iter__',\n",
       " '__le__',\n",
       " '__len__',\n",
       " '__lt__',\n",
       " '__ne__',\n",
       " '__new__',\n",
       " '__reduce__',\n",
       " '__reduce_ex__',\n",
       " '__repr__',\n",
       " '__setattr__',\n",
       " '__setitem__',\n",
       " '__sizeof__',\n",
       " '__str__',\n",
       " '__subclasshook__',\n",
       " 'clear',\n",
       " 'copy',\n",
       " 'fromkeys',\n",
       " 'get',\n",
       " 'items',\n",
       " 'keys',\n",
       " 'pop',\n",
       " 'popitem',\n",
       " 'setdefault',\n",
       " 'update',\n",
       " 'values']"
      ]
     },
     "execution_count": 25,
     "metadata": {},
     "output_type": "execute_result"
    }
   ],
   "source": [
    "dir(dict)"
   ]
  },
  {
   "cell_type": "code",
   "execution_count": 26,
   "metadata": {},
   "outputs": [],
   "source": [
    "dict.get?"
   ]
  },
  {
   "cell_type": "code",
   "execution_count": 1,
   "metadata": {},
   "outputs": [
    {
     "name": "stdout",
     "output_type": "stream",
     "text": [
      "Name is: Satwik\n"
     ]
    }
   ],
   "source": [
    "def name(n):\n",
    "    print(f\"Name is: {n}\")\n",
    "x = name('Satwik')"
   ]
  },
  {
   "cell_type": "code",
   "execution_count": 2,
   "metadata": {},
   "outputs": [
    {
     "name": "stdout",
     "output_type": "stream",
     "text": [
      "Name is: paul\n"
     ]
    }
   ],
   "source": [
    "name('paul')"
   ]
  },
  {
   "cell_type": "code",
   "execution_count": 3,
   "metadata": {},
   "outputs": [],
   "source": [
    "import math"
   ]
  },
  {
   "cell_type": "code",
   "execution_count": 4,
   "metadata": {},
   "outputs": [
    {
     "name": "stdout",
     "output_type": "stream",
     "text": [
      "\n",
      "Please wait a moment while I gather a list of all available modules...\n",
      "\n"
     ]
    },
    {
     "name": "stderr",
     "output_type": "stream",
     "text": [
      "C:\\Users\\Satwik\\Anaconda3\\lib\\site-packages\\IPython\\kernel\\__init__.py:13: ShimWarning: The `IPython.kernel` package has been deprecated since IPython 4.0.You should import from ipykernel or jupyter_client instead.\n",
      "  \"You should import from ipykernel or jupyter_client instead.\", ShimWarning)\n",
      "WARNING: AstropyDeprecationWarning: astropy.utils.compat.futures is now deprecated - use concurrent.futures instead [astropy.utils.compat.futures]\n",
      "WARNING: Logging before flag parsing goes to stderr.\n",
      "W0224 20:34:29.579038  6652 logger.py:200] AstropyDeprecationWarning: astropy.utils.compat.futures is now deprecated - use concurrent.futures instead\n",
      "C:\\Users\\Satwik\\Anaconda3\\lib\\site-packages\\h5py\\__init__.py:36: FutureWarning: Conversion of the second argument of issubdtype from `float` to `np.floating` is deprecated. In future, it will be treated as `np.float64 == np.dtype(float).type`.\n",
      "  from ._conv import register_converters as _register_converters\n",
      "C:\\Users\\Satwik\\Anaconda3\\lib\\site-packages\\odo\\backends\\pandas.py:102: FutureWarning: pandas.tslib is deprecated and will be removed in a future version.\n",
      "You can access NaTType as type(pandas.NaT)\n",
      "  @convert.register((pd.Timestamp, pd.Timedelta), (pd.tslib.NaTType, type(None)))\n",
      "C:\\Users\\Satwik\\Anaconda3\\lib\\site-packages\\distributed\\utils.py:128: RuntimeWarning: Couldn't detect a suitable IP address for reaching '8.8.8.8', defaulting to '127.0.0.1': [WinError 10065] A socket operation was attempted to an unreachable host\n",
      "  % (host, default, e), RuntimeWarning)\n",
      "C:\\Users\\Satwik\\Anaconda3\\lib\\site-packages\\nltk\\twitter\\__init__.py:20: UserWarning: The twython library has not been installed. Some functionality from the twitter package will not be available.\n",
      "  warnings.warn(\"The twython library has not been installed. \"\n",
      "C:\\Users\\Satwik\\Anaconda3\\lib\\site-packages\\skimage\\viewer\\utils\\core.py:10: UserWarning: Recommended matplotlib backend is `Agg` for full skimage.viewer functionality.\n",
      "  warn(\"Recommended matplotlib backend is `Agg` for full \"\n",
      "C:\\Users\\Satwik\\Anaconda3\\lib\\site-packages\\qtawesome\\iconic_font.py:268: UserWarning: You need to have a running QApplication to use QtAwesome!\n",
      "  warnings.warn(\"You need to have a running \"\n",
      "C:\\Users\\Satwik\\Anaconda3\\lib\\pkgutil.py:107: VisibleDeprecationWarning: zmq.eventloop.minitornado is deprecated in pyzmq 14.0 and will be removed.\n",
      "    Install tornado itself to use zmq with the tornado IOLoop.\n",
      "    \n",
      "  yield from walk_packages(path, info.name+'.', onerror)\n"
     ]
    },
    {
     "name": "stdout",
     "output_type": "stream",
     "text": [
      "Crypto              cProfile            mkl_fft             spyder_breakpoints\n",
      "Cython              calendar            mkl_random          spyder_io_dcm\n",
      "IPython             certifi             mmap                spyder_io_hdf5\n",
      "OpenSSL             cffi                mmapfile            spyder_profiler\n",
      "PIL                 cgi                 mmsystem            spyder_pylint\n",
      "PyQt5               cgitb               modulefinder        sqlalchemy\n",
      "__future__          chardet             more_itertools      sqlite3\n",
      "_ast                chunk               mpmath              sre_compile\n",
      "_asyncio            click               msgpack             sre_constants\n",
      "_bisect             cloudpickle         msilib              sre_parse\n",
      "_blake2             clyent              msvcrt              ssl\n",
      "_bootlocale         cmath               multipledispatch    sspi\n",
      "_bz2                cmd                 multiprocessing     sspicon\n",
      "_cffi_backend       code                navigator_updater   stat\n",
      "_codecs             codecs              nbconvert           statistics\n",
      "_codecs_cn          codeop              nbformat            statsmodels\n",
      "_codecs_hk          collections         netbios             storemagic\n",
      "_codecs_iso2022     colorama            netrc               string\n",
      "_codecs_jp          colorsys            networkx            stringprep\n",
      "_codecs_kr          commctrl            nltk                struct\n",
      "_codecs_tw          compileall          nntplib             subprocess\n",
      "_collections        comtypes            nose                sunau\n",
      "_collections_abc    concurrent          notebook            symbol\n",
      "_compat_pickle      conda               nt                  sympy\n",
      "_compression        conda_build         ntpath              sympyprinting\n",
      "_csv                conda_env           ntsecuritycon       symtable\n",
      "_ctypes             conda_verify        nturl2path          sys\n",
      "_ctypes_test        configparser        numba               sysconfig\n",
      "_datetime           contextlib          numbers             tables\n",
      "_decimal            contextlib2         numexpr             tabnanny\n",
      "_distutils_findvs   copy                numpy               tarfile\n",
      "_dummy_thread       copyreg             numpydoc            tblib\n",
      "_elementtree        crypt               odbc                telnetlib\n",
      "_functools          cryptography        odo                 tempfile\n",
      "_hashlib            csv                 olefile             tensorboard\n",
      "_heapq              ctypes              opcode              tensorflow\n",
      "_imp                curl                openpyxl            termcolor\n",
      "_io                 curses              operator            terminado\n",
      "_json               cwp                 optparse            test\n",
      "_locale             cycler              os                  test_data\n",
      "_lsprof             cython              packaging           test_path\n",
      "_lzma               cythonmagic         pandas              test_pycosat\n",
      "_markupbase         cytoolz             pandocfilters       testpath\n",
      "_md5                dask                parser              tests\n",
      "_msi                datashape           parso               textwrap\n",
      "_multibytecodec     datetime            partd               this\n",
      "_multiprocessing    dateutil            path                threading\n",
      "_nsis               dbi                 pathlib             time\n",
      "_opcode             dbm                 pathlib2            timeit\n",
      "_operator           dde                 patsy               timer\n",
      "_osx_support        decimal             pdb                 tkinter\n",
      "_overlapped         decorator           pep8                tlz\n",
      "_pickle             difflib             perfmon             token\n",
      "_pydecimal          dis                 pickle              tokenize\n",
      "_pyio               distributed         pickleshare         toolz\n",
      "_pytest             distutils           pickletools         tornado\n",
      "_random             doctest             pip                 trace\n",
      "_sha1               docutils            pipes               traceback\n",
      "_sha256             dummy_threading     pkg_resources       tracemalloc\n",
      "_sha3               easy_install        pkginfo             traitlets\n",
      "_sha512             email               pkgutil             tty\n",
      "_signal             encodings           platform            turtle\n",
      "_sitebuiltins       ensurepip           plistlib            turtledemo\n",
      "_socket             entrypoints         pluggy              types\n",
      "_sqlite3            enum                ply                 typing\n",
      "_sre                errno               poplib              unicodecsv\n",
      "_ssl                et_xmlfile          posixpath           unicodedata\n",
      "_stat               fastcache           pprint              unittest\n",
      "_string             faulthandler        profile             urllib\n",
      "_strptime           filecmp             prompt_toolkit      urllib3\n",
      "_struct             fileinput           pstats              uu\n",
      "_symtable           filelock            psutil              uuid\n",
      "_system_path        flask               pty                 venv\n",
      "_testbuffer         flask_cors          py                  warnings\n",
      "_testcapi           fnmatch             py_compile          wave\n",
      "_testconsole        formatter           pyclbr              wcwidth\n",
      "_testimportmultiple fractions           pycodestyle         weakref\n",
      "_testmultiphase     ftplib              pycosat             webbrowser\n",
      "_thread             functools           pycparser           webencodings\n",
      "_threading_local    gast                pycurl              werkzeug\n",
      "_tkinter            gc                  pydoc               wheel\n",
      "_tracemalloc        genericpath         pydoc_data          widgetsnbextension\n",
      "_warnings           getopt              pyexpat             win2kras\n",
      "_weakref            getpass             pyflakes            win32api\n",
      "_weakrefset         gettext             pygments            win32clipboard\n",
      "_win32sysloader     gevent              pylab               win32com\n",
      "_winapi             glob                pylint              win32con\n",
      "_winxptheme         glob2               pyodbc              win32console\n",
      "_yaml               greenlet            pyparsing           win32cred\n",
      "abc                 grpc                pytest              win32crypt\n",
      "absl                gzip                pytest_arraydiff    win32cryptcon\n",
      "adodbapi            h5py                pytest_doctestplus  win32event\n",
      "afxres              hashlib             pytest_openfiles    win32evtlog\n",
      "aifc                heapdict            pytest_remotedata   win32evtlogutil\n",
      "alabaster           heapq               pythoncom           win32file\n",
      "anaconda_navigator  hmac                pytz                win32gui\n",
      "anaconda_project    html                pywin               win32gui_struct\n",
      "antigravity         html5lib            pywin32_testutil    win32help\n",
      "argparse            http                pywintypes          win32inet\n",
      "array               idlelib             pywt                win32inetcon\n",
      "asn1crypto          idna                pyximport           win32job\n",
      "ast                 imageio             qtawesome           win32lz\n",
      "astor               imagesize           qtconsole           win32net\n",
      "astroid             imaplib             qtpy                win32netcon\n",
      "astropy             imghdr              queue               win32pdh\n",
      "asynchat            imp                 quopri              win32pdhquery\n",
      "asyncio             importlib           random              win32pdhutil\n",
      "asyncore            inspect             rasutil             win32pipe\n",
      "atexit              io                  re                  win32print\n",
      "attr                ipaddress           regcheck            win32process\n",
      "audioop             ipykernel           regutil             win32profile\n",
      "autoreload          ipykernel_launcher  reprlib             win32ras\n",
      "babel               ipython_genutils    requests            win32rcparser\n",
      "backcall            ipywidgets          rlcompleter         win32security\n",
      "backports           isapi               rmagic              win32service\n",
      "base64              isort               rope                win32serviceutil\n",
      "bdb                 itertools           ruamel_yaml         win32timezone\n",
      "binascii            itsdangerous        run                 win32trace\n",
      "binhex              jdcal               runpy               win32traceutil\n",
      "binstar_client      jedi                sched               win32transaction\n",
      "bisect              jinja2              scipy               win32ts\n",
      "bitarray            json                scripts             win32ui\n",
      "bkcharts            jsonschema          seaborn             win32uiole\n",
      "blaze               jupyter             secrets             win32verstamp\n",
      "bleach              jupyter_client      select              win32wnet\n",
      "bokeh               jupyter_console     selectors           win_inet_pton\n",
      "boto                jupyter_core        send2trash          win_unicode_console\n",
      "bottleneck          jupyterlab          servicemanager      wincertstore\n",
      "brain_attrs         jupyterlab_launcher setuptools          winerror\n",
      "brain_builtin_inference keras_applications  shelve              winioctlcon\n",
      "brain_collections   keras_preprocessing shlex               winnt\n",
      "brain_curses        keyword             shutil              winperf\n",
      "brain_dateutil      kiwisolver          signal              winpty\n",
      "brain_fstrings      lazy_object_proxy   simplegeneric       winreg\n",
      "brain_functools     lib2to3             singledispatch      winsound\n",
      "brain_gi            linecache           singledispatch_helpers winxpgui\n",
      "brain_hashlib       llvmlite            sip                 winxptheme\n",
      "brain_io            locale              sipconfig           wrapt\n",
      "brain_mechanize     locket              sipdistutils        wsgiref\n",
      "brain_multiprocessing logging             site                xdrlib\n",
      "brain_namedtuple_enum lxml                six                 xlrd\n",
      "brain_nose          lzma                skimage             xlsxwriter\n",
      "brain_numpy         macpath             sklearn             xlwings\n",
      "brain_pkg_resources macurl2path         smtpd               xlwt\n",
      "brain_pytest        mailbox             smtplib             xml\n",
      "brain_qt            mailcap             sndhdr              xmlrpc\n",
      "brain_re            markdown            snowballstemmer     xxsubtype\n",
      "brain_six           markupsafe          socket              yaml\n",
      "brain_ssl           marshal             socketserver        zict\n",
      "brain_subprocess    math                socks               zipapp\n",
      "brain_threading     matplotlib          sockshandler        zipfile\n",
      "brain_typing        mccabe              sortedcollections   zipimport\n",
      "brain_uuid          menuinst            sortedcontainers    zlib\n",
      "bs4                 mimetypes           sphinx              zmq\n",
      "builtins            mistune             sphinxcontrib       \n",
      "bz2                 mkl                 spyder              \n",
      "\n",
      "Enter any module name to get more help.  Or, type \"modules spam\" to search\n",
      "for modules whose name or summary contain the string \"spam\".\n",
      "\n"
     ]
    }
   ],
   "source": [
    "help(\"modules\")"
   ]
  },
  {
   "cell_type": "code",
   "execution_count": 3,
   "metadata": {},
   "outputs": [],
   "source": [
    "class stack:\n",
    "    \"stack implementation in python\"\n",
    "    total_stack = 0\n",
    "    def __init__(self):\n",
    "        self.data = []\n",
    "        stack.total_stack += 1\n",
    "    def push(self,item):\n",
    "        self.data.append(item)\n",
    "    def pop(self):\n",
    "        if len(self.data):\n",
    "            item = self.data.pop()\n",
    "        else:\n",
    "            print(\"UnderFlow Error\")\n",
    "    def __str__(self):\n",
    "        return str(self.data)"
   ]
  },
  {
   "cell_type": "code",
   "execution_count": 26,
   "metadata": {},
   "outputs": [],
   "source": [
    "class queue:\n",
    "    total_queue = 0\n",
    "    def __init__(self):\n",
    "        self.data = []\n",
    "        queue.total_queue += 1\n",
    "    def push(self,item):\n",
    "        self.data.append(item)\n",
    "        print(f\"{item} successfully added to queue\")\n",
    "    def pop(self):\n",
    "        if len(self.data):\n",
    "            item = self.data.pop(0)\n",
    "            print(f\"{item} is successfully removed from the queue\")\n",
    "        else:\n",
    "            print(\"UnderFlow Error\")\n",
    "    def __str__(self):\n",
    "        return str(self.data)\n",
    "    "
   ]
  },
  {
   "cell_type": "code",
   "execution_count": 27,
   "metadata": {},
   "outputs": [],
   "source": [
    "q1 = queue()\n",
    "q2 = queue()"
   ]
  },
  {
   "cell_type": "code",
   "execution_count": 28,
   "metadata": {},
   "outputs": [
    {
     "name": "stdout",
     "output_type": "stream",
     "text": [
      "[]\n"
     ]
    }
   ],
   "source": [
    "print(q1)"
   ]
  },
  {
   "cell_type": "code",
   "execution_count": 29,
   "metadata": {},
   "outputs": [
    {
     "name": "stdout",
     "output_type": "stream",
     "text": [
      "10 successfully added to queue\n",
      "20 successfully added to queue\n"
     ]
    }
   ],
   "source": [
    "q1.push(10)\n",
    "q1.push(20)"
   ]
  },
  {
   "cell_type": "code",
   "execution_count": 30,
   "metadata": {},
   "outputs": [
    {
     "name": "stdout",
     "output_type": "stream",
     "text": [
      "[10, 20]\n"
     ]
    }
   ],
   "source": [
    "print(q1)"
   ]
  },
  {
   "cell_type": "code",
   "execution_count": 31,
   "metadata": {},
   "outputs": [
    {
     "name": "stdout",
     "output_type": "stream",
     "text": [
      "10 is successfully removed from the queue\n"
     ]
    }
   ],
   "source": [
    "q1.pop()"
   ]
  },
  {
   "cell_type": "code",
   "execution_count": 32,
   "metadata": {},
   "outputs": [
    {
     "name": "stdout",
     "output_type": "stream",
     "text": [
      "[20]\n"
     ]
    }
   ],
   "source": [
    "print(q1)"
   ]
  },
  {
   "cell_type": "code",
   "execution_count": 28,
   "metadata": {},
   "outputs": [],
   "source": [
    "class A:\n",
    "    __slots__ = ['name','age','color','salary']\n",
    "    def __init__(self,name,color):\n",
    "        self.name = name\n",
    "        self.color = color\n",
    "    def show(self):\n",
    "        print(f\"Name = \", self.name)\n",
    "        print(\"Color =\", self.color)\n",
    "    "
   ]
  },
  {
   "cell_type": "code",
   "execution_count": 29,
   "metadata": {},
   "outputs": [],
   "source": [
    "a = A('rahul','fare')\n",
    "b = A('sachin', 'fare')"
   ]
  },
  {
   "cell_type": "code",
   "execution_count": 30,
   "metadata": {},
   "outputs": [
    {
     "name": "stdout",
     "output_type": "stream",
     "text": [
      "Name =  rahul\n",
      "Color = fare\n"
     ]
    }
   ],
   "source": [
    "a.show()"
   ]
  },
  {
   "cell_type": "code",
   "execution_count": 31,
   "metadata": {},
   "outputs": [],
   "source": [
    "a.salary = 25000"
   ]
  },
  {
   "cell_type": "code",
   "execution_count": 32,
   "metadata": {},
   "outputs": [],
   "source": [
    "a.age = 22"
   ]
  },
  {
   "cell_type": "code",
   "execution_count": 33,
   "metadata": {},
   "outputs": [
    {
     "name": "stdout",
     "output_type": "stream",
     "text": [
      "Name =  rahul\n",
      "Color = fare\n"
     ]
    }
   ],
   "source": [
    "a.show()"
   ]
  },
  {
   "cell_type": "code",
   "execution_count": 37,
   "metadata": {},
   "outputs": [
    {
     "data": {
      "text/plain": [
       "mappingproxy({'__module__': '__main__',\n",
       "              '__slots__': ['name', 'age', 'color', 'salary'],\n",
       "              '__init__': <function __main__.A.__init__(self, name, color)>,\n",
       "              'show': <function __main__.A.show(self)>,\n",
       "              'age': <member 'age' of 'A' objects>,\n",
       "              'color': <member 'color' of 'A' objects>,\n",
       "              'name': <member 'name' of 'A' objects>,\n",
       "              'salary': <member 'salary' of 'A' objects>,\n",
       "              '__doc__': None})"
      ]
     },
     "execution_count": 37,
     "metadata": {},
     "output_type": "execute_result"
    }
   ],
   "source": [
    "A.__dict__"
   ]
  },
  {
   "cell_type": "code",
   "execution_count": 38,
   "metadata": {},
   "outputs": [],
   "source": [
    "#@staticmethod--> decorator, used when we want to use class variable for object also or when we want object to access class variable\n",
    "#@classmethod--> decorator, Convert a function to be a class method."
   ]
  },
  {
   "cell_type": "code",
   "execution_count": 61,
   "metadata": {},
   "outputs": [],
   "source": [
    "class B:\n",
    "    __msg = 'hello'\n",
    "    @property\n",
    "    def message(self):  #getter method\n",
    "        print(B.__msg)\n",
    "    @message.setter #setter method\n",
    "    def message(self,msg):\n",
    "        B.__msg = msg"
   ]
  },
  {
   "cell_type": "code",
   "execution_count": 62,
   "metadata": {},
   "outputs": [],
   "source": [
    "a1 = B()"
   ]
  },
  {
   "cell_type": "code",
   "execution_count": 63,
   "metadata": {},
   "outputs": [],
   "source": [
    "a2= B()"
   ]
  },
  {
   "cell_type": "code",
   "execution_count": 64,
   "metadata": {},
   "outputs": [
    {
     "name": "stdout",
     "output_type": "stream",
     "text": [
      "hello\n"
     ]
    }
   ],
   "source": [
    "a1.message"
   ]
  },
  {
   "cell_type": "code",
   "execution_count": 65,
   "metadata": {},
   "outputs": [],
   "source": [
    "a1.message = 'hi'"
   ]
  },
  {
   "cell_type": "code",
   "execution_count": 66,
   "metadata": {},
   "outputs": [
    {
     "name": "stdout",
     "output_type": "stream",
     "text": [
      "hi\n"
     ]
    }
   ],
   "source": [
    "a1.message"
   ]
  },
  {
   "cell_type": "code",
   "execution_count": 69,
   "metadata": {},
   "outputs": [],
   "source": [
    "@property?"
   ]
  },
  {
   "cell_type": "code",
   "execution_count": 72,
   "metadata": {},
   "outputs": [],
   "source": [
    "#generator--> used where memory is less and speed required is more"
   ]
  },
  {
   "cell_type": "code",
   "execution_count": null,
   "metadata": {},
   "outputs": [],
   "source": [
    "#Exception Handling"
   ]
  },
  {
   "cell_type": "code",
   "execution_count": null,
   "metadata": {},
   "outputs": [],
   "source": [
    "#try-except--> to check if any error occurs and handle it in exception box"
   ]
  },
  {
   "cell_type": "code",
   "execution_count": 1,
   "metadata": {},
   "outputs": [
    {
     "name": "stdout",
     "output_type": "stream",
     "text": [
      "Enter an number: qwe\n",
      "Invalid!\n",
      "Enter an number: ytr\n",
      "Invalid!\n",
      "Enter an number: trf\n",
      "Invalid!\n",
      "Enter an number: 345\n",
      "square of number is:  119025\n"
     ]
    }
   ],
   "source": [
    "while True:\n",
    "    try:\n",
    "        num = int(input(\"Enter an number: \"))\n",
    "        print(\"square of number is: \",num**2)\n",
    "        break\n",
    "    except:\n",
    "        print(\"Invalid!\")"
   ]
  },
  {
   "cell_type": "code",
   "execution_count": 5,
   "metadata": {},
   "outputs": [
    {
     "name": "stdout",
     "output_type": "stream",
     "text": [
      "['ArithmeticError', 'AssertionError', 'AttributeError', 'BaseException', 'BlockingIOError', 'BrokenPipeError', 'BufferError', 'BytesWarning', 'ChildProcessError', 'ConnectionAbortedError', 'ConnectionError', 'ConnectionRefusedError', 'ConnectionResetError', 'DeprecationWarning', 'EOFError', 'Ellipsis', 'EnvironmentError', 'Exception', 'False', 'FileExistsError', 'FileNotFoundError', 'FloatingPointError', 'FutureWarning', 'GeneratorExit', 'IOError', 'ImportError', 'ImportWarning', 'IndentationError', 'IndexError', 'InterruptedError', 'IsADirectoryError', 'KeyError', 'KeyboardInterrupt', 'LookupError', 'MemoryError', 'ModuleNotFoundError', 'NameError', 'None', 'NotADirectoryError', 'NotImplemented', 'NotImplementedError', 'OSError', 'OverflowError', 'PendingDeprecationWarning', 'PermissionError', 'ProcessLookupError', 'RecursionError', 'ReferenceError', 'ResourceWarning', 'RuntimeError', 'RuntimeWarning', 'StopAsyncIteration', 'StopIteration', 'SyntaxError', 'SyntaxWarning', 'SystemError', 'SystemExit', 'TabError', 'TimeoutError', 'True', 'TypeError', 'UnboundLocalError', 'UnicodeDecodeError', 'UnicodeEncodeError', 'UnicodeError', 'UnicodeTranslateError', 'UnicodeWarning', 'UserWarning', 'ValueError', 'Warning', 'WindowsError', 'ZeroDivisionError', '__IPYTHON__', '__build_class__', '__debug__', '__doc__', '__import__', '__loader__', '__name__', '__package__', '__spec__', 'abs', 'all', 'any', 'ascii', 'bin', 'bool', 'bytearray', 'bytes', 'callable', 'chr', 'classmethod', 'compile', 'complex', 'copyright', 'credits', 'delattr', 'dict', 'dir', 'display', 'divmod', 'enumerate', 'eval', 'exec', 'filter', 'float', 'format', 'frozenset', 'get_ipython', 'getattr', 'globals', 'hasattr', 'hash', 'help', 'hex', 'id', 'input', 'int', 'isinstance', 'issubclass', 'iter', 'len', 'license', 'list', 'locals', 'map', 'max', 'memoryview', 'min', 'next', 'object', 'oct', 'open', 'ord', 'pow', 'print', 'property', 'range', 'repr', 'reversed', 'round', 'set', 'setattr', 'slice', 'sorted', 'staticmethod', 'str', 'sum', 'super', 'tuple', 'type', 'vars', 'zip']\n"
     ]
    }
   ],
   "source": [
    "import builtins \n",
    "print(dir(builtins))"
   ]
  },
  {
   "cell_type": "code",
   "execution_count": 4,
   "metadata": {},
   "outputs": [
    {
     "name": "stdout",
     "output_type": "stream",
     "text": [
      "enter x: qwe\n",
      "Enter an integer\n",
      "enter x: 123\n",
      "enter y: qwe\n",
      "Enter an integer\n",
      "enter x: 123\n",
      "enter y: 1\n",
      "Result is:  123.0\n"
     ]
    }
   ],
   "source": [
    "while True:\n",
    "    try :\n",
    "        x = int(input(\"enter x: \"))\n",
    "        y = int(input(\"enter y: \"))\n",
    "        r = x/y\n",
    "        print(\"Result is: \",r)\n",
    "        break\n",
    "    except ValueError as msg :\n",
    "        print(\"Enter an integer\")\n",
    "    except ZeroDivisionError as msg :\n",
    "        print(\"Division not possible\")\n",
    "    except Exception as msg :\n",
    "        print(\"Error\")"
   ]
  },
  {
   "cell_type": "code",
   "execution_count": 8,
   "metadata": {},
   "outputs": [
    {
     "name": "stdout",
     "output_type": "stream",
     "text": [
      "Enter any integer: qwe\n",
      "Invalid input\n",
      "Executed Successfully\n",
      "Enter any integer: qwe\n",
      "Invalid input\n",
      "Executed Successfully\n",
      "Enter any integer: 123\n",
      "123\n",
      "Accepted Successfully\n",
      "Executed Successfully\n"
     ]
    }
   ],
   "source": [
    "while True:\n",
    "    try:\n",
    "        x = int(input(\"Enter any integer: \"))\n",
    "        print(x)\n",
    "    except ValueError as msg:\n",
    "        print(\"Invalid input\")\n",
    "    else:\n",
    "        print(\"Accepted Successfully\")\n",
    "        break\n",
    "    finally:\n",
    "        print(\"Executed Successfully\")"
   ]
  },
  {
   "cell_type": "code",
   "execution_count": null,
   "metadata": {},
   "outputs": [],
   "source": [
    "#raise--> to bring an error; custom exception"
   ]
  },
  {
   "cell_type": "code",
   "execution_count": 9,
   "metadata": {},
   "outputs": [
    {
     "name": "stdout",
     "output_type": "stream",
     "text": [
      "Enter any number: -34\n",
      "Invalid Input\n",
      "Number should be positive\n"
     ]
    }
   ],
   "source": [
    "try:\n",
    "    x = int(input(\"Enter any number: \"))\n",
    "    if x < 0:\n",
    "        raise ValueError(\"Number should be positive\")   #custom exception\n",
    "except ValueError as msg:\n",
    "    print(\"Invalid Input\")\n",
    "    print(msg)"
   ]
  },
  {
   "cell_type": "code",
   "execution_count": null,
   "metadata": {},
   "outputs": [],
   "source": [
    "#AssertionError--> to raise an error if any statement doesn't satisfy any condition; custom exception\n",
    "#else and accept should be used at last after except"
   ]
  },
  {
   "cell_type": "code",
   "execution_count": 15,
   "metadata": {},
   "outputs": [
    {
     "name": "stdout",
     "output_type": "stream",
     "text": [
      "Enter any number: -34\n",
      "Number should be positive\n"
     ]
    }
   ],
   "source": [
    "try:\n",
    "    x = int(input(\"Enter any number: \"))\n",
    "    assert x > 0, \"Number should be positive\"    #custom exception\n",
    "    print(x)\n",
    "except ValueError as msg:\n",
    "    print(\"Invalid Input\")\n",
    "except AssertionError as msg:\n",
    "    print(msg)\n"
   ]
  },
  {
   "cell_type": "code",
   "execution_count": null,
   "metadata": {},
   "outputs": [],
   "source": [
    "class MyError(Exception):\n",
    "    def __init__(self,msg):\n",
    "        super().__init__"
   ]
  }
 ],
 "metadata": {
  "kernelspec": {
   "display_name": "Python 3",
   "language": "python",
   "name": "python3"
  }
 },
 "nbformat": 4,
 "nbformat_minor": 2
}
